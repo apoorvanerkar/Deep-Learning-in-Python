{
  "nbformat": 4,
  "nbformat_minor": 0,
  "metadata": {
    "colab": {
      "name": "ApoorvaNerkar_LiverData.ipynb",
      "provenance": [],
      "collapsed_sections": []
    },
    "kernelspec": {
      "name": "python3",
      "display_name": "Python 3"
    }
  },
  "cells": [
    {
      "cell_type": "markdown",
      "metadata": {
        "id": "FVbK968896f7",
        "colab_type": "text"
      },
      "source": [
        "Liver Data"
      ]
    },
    {
      "cell_type": "markdown",
      "metadata": {
        "id": "88pnQO4_BB_V",
        "colab_type": "text"
      },
      "source": [
        "Import Libraries"
      ]
    },
    {
      "cell_type": "code",
      "metadata": {
        "id": "Utq9qFEJ76Tu",
        "colab_type": "code",
        "outputId": "026c09d1-1da4-4e03-d421-ce14be6f68ff",
        "colab": {
          "base_uri": "https://localhost:8080/",
          "height": 54
        }
      },
      "source": [
        "%tensorflow_version 2.x\n",
        "from numpy.random import seed\n",
        "seed(2)\n",
        "import tensorflow as tf\n",
        "from tensorflow import keras\n",
        "from IPython import display\n",
        "from matplotlib import cm\n",
        "from matplotlib import gridspec\n",
        "from matplotlib import pyplot as plt\n",
        "import numpy as np\n",
        "import pandas as pd\n",
        "from tensorflow.python.data import Dataset\n",
        "from sklearn import preprocessing\n",
        "from sklearn.preprocessing import StandardScaler\n",
        "print(tf.__version__)"
      ],
      "execution_count": 2,
      "outputs": [
        {
          "output_type": "stream",
          "text": [
            "TensorFlow 2.x selected.\n",
            "2.1.0\n"
          ],
          "name": "stdout"
        }
      ]
    },
    {
      "cell_type": "markdown",
      "metadata": {
        "id": "g1Inn-ptBRo2",
        "colab_type": "text"
      },
      "source": [
        "Import Data"
      ]
    },
    {
      "cell_type": "code",
      "metadata": {
        "colab_type": "code",
        "outputId": "85486cf6-0586-446b-9c21-c23691802645",
        "id": "V9vzv-FifhZS",
        "colab": {
          "base_uri": "https://localhost:8080/",
          "height": 254
        }
      },
      "source": [
        "\n",
        "pd.options.display.max_rows = 10\n",
        "pd.options.display.float_format = '{:.1f}'.format\n",
        "\n",
        "LiverData_dataframe = pd.read_csv(\"LiverData.csv\")\n",
        "\n",
        "# Remove spaces from column names\n",
        "LiverData_dataframe.columns = LiverData_dataframe.columns.to_series().apply(lambda x: x.strip())\n",
        "\n",
        "# Rename columns having spaces and special symbols\n",
        "LiverData_dataframe.rename(columns={\"Nausea/Vomting\": \"Nausea_Vomiting\", \n",
        "                             \"Fatigue & generalized bone ache\": \"Fatigue_generalized_bone_ache\",\n",
        "                             \"Epigastric pain\":\"Epigastric_pain\"}, inplace = True)\n",
        "\n",
        "#Covert categorical variables to numeric values\n",
        "LiverData_dataframe[\"Gender\"] = LiverData_dataframe.Gender.astype(\"category\").cat.codes\n",
        "LiverData_dataframe[\"Fever\"] = LiverData_dataframe.Fever.astype(\"category\").cat.codes\n",
        "LiverData_dataframe[\"Nausea_Vomiting\"] = LiverData_dataframe.Nausea_Vomiting.astype(\"category\").cat.codes\n",
        "LiverData_dataframe[\"Headache\"] = LiverData_dataframe.Headache.astype(\"category\").cat.codes\n",
        "LiverData_dataframe[\"Diarrhea\"] = LiverData_dataframe.Diarrhea.astype(\"category\").cat.codes\n",
        "LiverData_dataframe[\"Fatigue_generalized_bone_ache\"] = LiverData_dataframe.Fatigue_generalized_bone_ache.astype(\"category\").cat.codes\n",
        "LiverData_dataframe[\"Jaundice\"] = LiverData_dataframe.Jaundice.astype(\"category\").cat.codes\n",
        "LiverData_dataframe[\"Epigastric_pain\"] = LiverData_dataframe.Epigastric_pain.astype(\"category\").cat.codes\n",
        "LiverData_dataframe[\"Class\"] = LiverData_dataframe.Class.astype(\"category\").cat.codes\n",
        "\n",
        "LiverData_dataframe = LiverData_dataframe.reindex(\n",
        "    np.random.permutation(LiverData_dataframe.index))\n",
        "\n",
        "print(LiverData_dataframe.head(10))"
      ],
      "execution_count": 3,
      "outputs": [
        {
          "output_type": "stream",
          "text": [
            "      Age  Gender  BMI  Fever  ...  RNA 12  RNA EOT  RNA EF  Class\n",
            "930    39       1   28      1  ...       5        5       5      0\n",
            "199    54       0   29      1  ...  556670   771412  100993      3\n",
            "1359   35       1   23      1  ...  745665   348266  605628      3\n",
            "861    55       0   33      1  ...       5        5       5      2\n",
            "387    40       0   32      0  ...       5        5       5      1\n",
            "436    58       0   31      1  ...  453807   161856  273188      2\n",
            "1364   60       0   22      1  ...  679822   717422  669698      3\n",
            "540    43       0   33      0  ...   66179   645660  146936      2\n",
            "407    54       1   25      1  ...  424905   270316  598588      2\n",
            "14     40       0   32      1  ...  421304   437544  124609      1\n",
            "\n",
            "[10 rows x 28 columns]\n"
          ],
          "name": "stdout"
        }
      ]
    },
    {
      "cell_type": "code",
      "metadata": {
        "id": "14VrJ0wO8O94",
        "colab_type": "code",
        "outputId": "7dc2c6e4-b054-432c-d1c5-c288dd1b6887",
        "colab": {
          "base_uri": "https://localhost:8080/",
          "height": 35
        }
      },
      "source": [
        "LiverData_dataframe.shape[0]"
      ],
      "execution_count": 4,
      "outputs": [
        {
          "output_type": "execute_result",
          "data": {
            "text/plain": [
              "1385"
            ]
          },
          "metadata": {
            "tags": []
          },
          "execution_count": 4
        }
      ]
    },
    {
      "cell_type": "markdown",
      "metadata": {
        "id": "90xxq4lzA9LQ",
        "colab_type": "text"
      },
      "source": [
        "Preprocess"
      ]
    },
    {
      "cell_type": "code",
      "metadata": {
        "id": "-o2LaG3h8kwS",
        "colab_type": "code",
        "colab": {}
      },
      "source": [
        "def preprocess_features(LiverData_dataframe):\n",
        "\n",
        "  selected_features = LiverData_dataframe[\n",
        "    [\"Age\",\n",
        "     \"Gender\",\n",
        "     \"BMI\",\n",
        "     \"Fever\",\n",
        "     \"Nausea_Vomiting\",\n",
        "     \"Headache\",\n",
        "     \"Diarrhea\",\n",
        "     \"Fatigue_generalized_bone_ache\",\n",
        "     \"Jaundice\",\n",
        "     \"Epigastric_pain\",\n",
        "     \"WBC\",\n",
        "     \"RBC\",\n",
        "     \"HGB\",\n",
        "     \"Plat\",\n",
        "     \"AST 1\",\n",
        "     \"ALT 1\",\n",
        "     \"ALT4\",\n",
        "     \"ALT 12\",\n",
        "     \"ALT 24\",\n",
        "     \"ALT 36\",\n",
        "     \"ALT 48\",\n",
        "     \"ALT after 24 w\",\n",
        "     \"RNA Base\",\n",
        "     \"RNA 4\",\n",
        "     \"RNA EOT\",\n",
        "     \"RNA EF\"\n",
        "     ]]\n",
        "    \n",
        "  processed_features = selected_features.copy()\n",
        "  \n",
        "  return processed_features\n",
        "\n",
        "def preprocess_targets(LiverData_dataframe):\n",
        "\n",
        "  output_targets = LiverData_dataframe[\"Class\"]\n",
        "  return output_targets"
      ],
      "execution_count": 0,
      "outputs": []
    },
    {
      "cell_type": "markdown",
      "metadata": {
        "id": "R6HmI96LiCkM",
        "colab_type": "text"
      },
      "source": [
        "Baseline Calculation"
      ]
    },
    {
      "cell_type": "code",
      "metadata": {
        "id": "xx38ZIarhhhg",
        "colab_type": "code",
        "outputId": "fc203839-881f-43db-e6f6-e9c7a0e4ec82",
        "colab": {
          "base_uri": "https://localhost:8080/",
          "height": 108
        }
      },
      "source": [
        "LiverData_dataframe[\"Class\"].value_counts() / LiverData_dataframe[\"Class\"].size * 100"
      ],
      "execution_count": 6,
      "outputs": [
        {
          "output_type": "execute_result",
          "data": {
            "text/plain": [
              "0   26.1\n",
              "2   25.6\n",
              "3   24.3\n",
              "1   24.0\n",
              "Name: Class, dtype: float64"
            ]
          },
          "metadata": {
            "tags": []
          },
          "execution_count": 6
        }
      ]
    },
    {
      "cell_type": "markdown",
      "metadata": {
        "id": "-R_UbORhBeBs",
        "colab_type": "text"
      },
      "source": [
        "Train/Validation Split"
      ]
    },
    {
      "cell_type": "code",
      "metadata": {
        "id": "tCZqbFyWBggw",
        "colab_type": "code",
        "outputId": "fe73e107-fa64-49d9-d495-b549896b3fbb",
        "colab": {
          "base_uri": "https://localhost:8080/",
          "height": 1000
        }
      },
      "source": [
        "# Choose the first 800 examples for training.\n",
        "training_examples = preprocess_features(LiverData_dataframe.head(1085))\n",
        "training_targets = preprocess_targets(LiverData_dataframe.head(1085))\n",
        "scaler = StandardScaler().fit(training_examples.values)\n",
        "scaledf = scaler.transform(training_examples.values)\n",
        "training_examples = pd.DataFrame(scaledf, index=training_examples.index, columns=training_examples.columns)\n",
        "print(training_examples.head(10))\n",
        "\n",
        "# Choose the 585 examples for validation.\n",
        "validation_examples = preprocess_features(LiverData_dataframe.tail(300))\n",
        "vscaled = scaler.transform(validation_examples.values)\n",
        "validation_examples = pd.DataFrame(vscaled, index=validation_examples.index, columns=validation_examples.columns)\n",
        "validation_targets = preprocess_targets(LiverData_dataframe.tail(300))\n",
        "\n",
        "# Double-check that we've done the right thing.\n",
        "print(\"Training examples summary:\")\n",
        "display.display(training_examples.describe())\n",
        "print(\"Validation examples summary:\")\n",
        "display.display(validation_examples.describe())\n",
        "\n",
        "print(\"Training targets summary:\")\n",
        "display.display(training_targets.describe())\n",
        "print(\"Validation targets summary:\")\n",
        "display.display(validation_targets.describe())\n"
      ],
      "execution_count": 7,
      "outputs": [
        {
          "output_type": "stream",
          "text": [
            "      Age  Gender  BMI  Fever  ...  RNA Base  RNA 4  RNA EOT  RNA EF\n",
            "930  -0.8     1.0 -0.1    1.0  ...       1.2   -0.8     -1.1    -1.1\n",
            "199   0.9    -1.0  0.1    1.0  ...       1.7   -1.7      1.8    -0.7\n",
            "1359 -1.3     1.0 -1.4    1.0  ...      -0.7   -0.1      0.2     1.2\n",
            "861   1.0    -1.0  1.1    1.0  ...      -1.5   -1.3     -1.1    -1.1\n",
            "387  -0.7    -1.0  0.8   -1.0  ...      -1.6   -1.5     -1.1    -1.1\n",
            "436   1.3    -1.0  0.6    1.0  ...      -1.6    0.6     -0.5    -0.1\n",
            "1364  1.5    -1.0 -1.6    1.0  ...       0.8    1.6      1.6     1.4\n",
            "540  -0.4    -1.0  1.1   -1.0  ...       0.6   -0.8      1.4    -0.5\n",
            "407   0.9     1.0 -0.9    1.0  ...       1.4    0.7     -0.1     1.1\n",
            "14   -0.7    -1.0  0.8    1.0  ...       1.5    1.4      0.6    -0.6\n",
            "\n",
            "[10 rows x 26 columns]\n",
            "Training examples summary:\n"
          ],
          "name": "stdout"
        },
        {
          "output_type": "display_data",
          "data": {
            "text/html": [
              "<div>\n",
              "<style scoped>\n",
              "    .dataframe tbody tr th:only-of-type {\n",
              "        vertical-align: middle;\n",
              "    }\n",
              "\n",
              "    .dataframe tbody tr th {\n",
              "        vertical-align: top;\n",
              "    }\n",
              "\n",
              "    .dataframe thead th {\n",
              "        text-align: right;\n",
              "    }\n",
              "</style>\n",
              "<table border=\"1\" class=\"dataframe\">\n",
              "  <thead>\n",
              "    <tr style=\"text-align: right;\">\n",
              "      <th></th>\n",
              "      <th>Age</th>\n",
              "      <th>Gender</th>\n",
              "      <th>BMI</th>\n",
              "      <th>Fever</th>\n",
              "      <th>Nausea_Vomiting</th>\n",
              "      <th>Headache</th>\n",
              "      <th>Diarrhea</th>\n",
              "      <th>Fatigue_generalized_bone_ache</th>\n",
              "      <th>Jaundice</th>\n",
              "      <th>Epigastric_pain</th>\n",
              "      <th>WBC</th>\n",
              "      <th>RBC</th>\n",
              "      <th>HGB</th>\n",
              "      <th>Plat</th>\n",
              "      <th>AST 1</th>\n",
              "      <th>ALT 1</th>\n",
              "      <th>ALT4</th>\n",
              "      <th>ALT 12</th>\n",
              "      <th>ALT 24</th>\n",
              "      <th>ALT 36</th>\n",
              "      <th>ALT 48</th>\n",
              "      <th>ALT after 24 w</th>\n",
              "      <th>RNA Base</th>\n",
              "      <th>RNA 4</th>\n",
              "      <th>RNA EOT</th>\n",
              "      <th>RNA EF</th>\n",
              "    </tr>\n",
              "  </thead>\n",
              "  <tbody>\n",
              "    <tr>\n",
              "      <th>count</th>\n",
              "      <td>1085.0</td>\n",
              "      <td>1085.0</td>\n",
              "      <td>1085.0</td>\n",
              "      <td>1085.0</td>\n",
              "      <td>1085.0</td>\n",
              "      <td>1085.0</td>\n",
              "      <td>1085.0</td>\n",
              "      <td>1085.0</td>\n",
              "      <td>1085.0</td>\n",
              "      <td>1085.0</td>\n",
              "      <td>1085.0</td>\n",
              "      <td>1085.0</td>\n",
              "      <td>1085.0</td>\n",
              "      <td>1085.0</td>\n",
              "      <td>1085.0</td>\n",
              "      <td>1085.0</td>\n",
              "      <td>1085.0</td>\n",
              "      <td>1085.0</td>\n",
              "      <td>1085.0</td>\n",
              "      <td>1085.0</td>\n",
              "      <td>1085.0</td>\n",
              "      <td>1085.0</td>\n",
              "      <td>1085.0</td>\n",
              "      <td>1085.0</td>\n",
              "      <td>1085.0</td>\n",
              "      <td>1085.0</td>\n",
              "    </tr>\n",
              "    <tr>\n",
              "      <th>mean</th>\n",
              "      <td>-0.0</td>\n",
              "      <td>0.0</td>\n",
              "      <td>-0.0</td>\n",
              "      <td>0.0</td>\n",
              "      <td>0.0</td>\n",
              "      <td>-0.0</td>\n",
              "      <td>0.0</td>\n",
              "      <td>-0.0</td>\n",
              "      <td>0.0</td>\n",
              "      <td>-0.0</td>\n",
              "      <td>0.0</td>\n",
              "      <td>0.0</td>\n",
              "      <td>-0.0</td>\n",
              "      <td>-0.0</td>\n",
              "      <td>0.0</td>\n",
              "      <td>0.0</td>\n",
              "      <td>-0.0</td>\n",
              "      <td>-0.0</td>\n",
              "      <td>-0.0</td>\n",
              "      <td>-0.0</td>\n",
              "      <td>0.0</td>\n",
              "      <td>0.0</td>\n",
              "      <td>0.0</td>\n",
              "      <td>-0.0</td>\n",
              "      <td>0.0</td>\n",
              "      <td>-0.0</td>\n",
              "    </tr>\n",
              "    <tr>\n",
              "      <th>std</th>\n",
              "      <td>1.0</td>\n",
              "      <td>1.0</td>\n",
              "      <td>1.0</td>\n",
              "      <td>1.0</td>\n",
              "      <td>1.0</td>\n",
              "      <td>1.0</td>\n",
              "      <td>1.0</td>\n",
              "      <td>1.0</td>\n",
              "      <td>1.0</td>\n",
              "      <td>1.0</td>\n",
              "      <td>1.0</td>\n",
              "      <td>1.0</td>\n",
              "      <td>1.0</td>\n",
              "      <td>1.0</td>\n",
              "      <td>1.0</td>\n",
              "      <td>1.0</td>\n",
              "      <td>1.0</td>\n",
              "      <td>1.0</td>\n",
              "      <td>1.0</td>\n",
              "      <td>1.0</td>\n",
              "      <td>1.0</td>\n",
              "      <td>1.0</td>\n",
              "      <td>1.0</td>\n",
              "      <td>1.0</td>\n",
              "      <td>1.0</td>\n",
              "      <td>1.0</td>\n",
              "    </tr>\n",
              "    <tr>\n",
              "      <th>min</th>\n",
              "      <td>-1.6</td>\n",
              "      <td>-1.0</td>\n",
              "      <td>-1.6</td>\n",
              "      <td>-1.0</td>\n",
              "      <td>-1.0</td>\n",
              "      <td>-1.0</td>\n",
              "      <td>-1.0</td>\n",
              "      <td>-1.0</td>\n",
              "      <td>-1.0</td>\n",
              "      <td>-1.0</td>\n",
              "      <td>-1.7</td>\n",
              "      <td>-1.8</td>\n",
              "      <td>-1.5</td>\n",
              "      <td>-1.7</td>\n",
              "      <td>-1.7</td>\n",
              "      <td>-1.7</td>\n",
              "      <td>-1.6</td>\n",
              "      <td>-1.7</td>\n",
              "      <td>-1.7</td>\n",
              "      <td>-2.9</td>\n",
              "      <td>-3.0</td>\n",
              "      <td>-4.0</td>\n",
              "      <td>-1.7</td>\n",
              "      <td>-1.7</td>\n",
              "      <td>-1.1</td>\n",
              "      <td>-1.1</td>\n",
              "    </tr>\n",
              "    <tr>\n",
              "      <th>25%</th>\n",
              "      <td>-0.8</td>\n",
              "      <td>-1.0</td>\n",
              "      <td>-0.9</td>\n",
              "      <td>-1.0</td>\n",
              "      <td>-1.0</td>\n",
              "      <td>-1.0</td>\n",
              "      <td>-1.0</td>\n",
              "      <td>-1.0</td>\n",
              "      <td>-1.0</td>\n",
              "      <td>-1.0</td>\n",
              "      <td>-0.9</td>\n",
              "      <td>-0.9</td>\n",
              "      <td>-0.9</td>\n",
              "      <td>-0.9</td>\n",
              "      <td>-0.9</td>\n",
              "      <td>-0.8</td>\n",
              "      <td>-0.9</td>\n",
              "      <td>-0.9</td>\n",
              "      <td>-0.9</td>\n",
              "      <td>-0.9</td>\n",
              "      <td>-0.8</td>\n",
              "      <td>-0.8</td>\n",
              "      <td>-0.9</td>\n",
              "      <td>-0.9</td>\n",
              "      <td>-1.1</td>\n",
              "      <td>-1.1</td>\n",
              "    </tr>\n",
              "    <tr>\n",
              "      <th>50%</th>\n",
              "      <td>-0.0</td>\n",
              "      <td>1.0</td>\n",
              "      <td>0.1</td>\n",
              "      <td>1.0</td>\n",
              "      <td>1.0</td>\n",
              "      <td>-1.0</td>\n",
              "      <td>1.0</td>\n",
              "      <td>1.0</td>\n",
              "      <td>1.0</td>\n",
              "      <td>1.0</td>\n",
              "      <td>-0.0</td>\n",
              "      <td>0.1</td>\n",
              "      <td>0.2</td>\n",
              "      <td>-0.0</td>\n",
              "      <td>0.0</td>\n",
              "      <td>-0.0</td>\n",
              "      <td>-0.1</td>\n",
              "      <td>0.0</td>\n",
              "      <td>-0.0</td>\n",
              "      <td>0.0</td>\n",
              "      <td>-0.0</td>\n",
              "      <td>0.1</td>\n",
              "      <td>0.0</td>\n",
              "      <td>-0.0</td>\n",
              "      <td>-0.2</td>\n",
              "      <td>-0.2</td>\n",
              "    </tr>\n",
              "    <tr>\n",
              "      <th>75%</th>\n",
              "      <td>0.9</td>\n",
              "      <td>1.0</td>\n",
              "      <td>0.8</td>\n",
              "      <td>1.0</td>\n",
              "      <td>1.0</td>\n",
              "      <td>1.0</td>\n",
              "      <td>1.0</td>\n",
              "      <td>1.0</td>\n",
              "      <td>1.0</td>\n",
              "      <td>1.0</td>\n",
              "      <td>0.8</td>\n",
              "      <td>0.9</td>\n",
              "      <td>0.8</td>\n",
              "      <td>0.8</td>\n",
              "      <td>0.9</td>\n",
              "      <td>0.9</td>\n",
              "      <td>0.9</td>\n",
              "      <td>0.9</td>\n",
              "      <td>0.9</td>\n",
              "      <td>0.8</td>\n",
              "      <td>0.9</td>\n",
              "      <td>0.9</td>\n",
              "      <td>0.9</td>\n",
              "      <td>0.8</td>\n",
              "      <td>0.9</td>\n",
              "      <td>0.9</td>\n",
              "    </tr>\n",
              "    <tr>\n",
              "      <th>max</th>\n",
              "      <td>1.7</td>\n",
              "      <td>1.0</td>\n",
              "      <td>1.6</td>\n",
              "      <td>1.0</td>\n",
              "      <td>1.0</td>\n",
              "      <td>1.0</td>\n",
              "      <td>1.0</td>\n",
              "      <td>1.0</td>\n",
              "      <td>1.0</td>\n",
              "      <td>1.0</td>\n",
              "      <td>1.7</td>\n",
              "      <td>1.7</td>\n",
              "      <td>1.4</td>\n",
              "      <td>1.8</td>\n",
              "      <td>1.8</td>\n",
              "      <td>1.7</td>\n",
              "      <td>1.7</td>\n",
              "      <td>1.7</td>\n",
              "      <td>1.7</td>\n",
              "      <td>1.7</td>\n",
              "      <td>1.7</td>\n",
              "      <td>1.6</td>\n",
              "      <td>1.7</td>\n",
              "      <td>1.7</td>\n",
              "      <td>2.0</td>\n",
              "      <td>1.9</td>\n",
              "    </tr>\n",
              "  </tbody>\n",
              "</table>\n",
              "</div>"
            ],
            "text/plain": [
              "         Age  Gender    BMI  Fever  ...  RNA Base  RNA 4  RNA EOT  RNA EF\n",
              "count 1085.0  1085.0 1085.0 1085.0  ...    1085.0 1085.0   1085.0  1085.0\n",
              "mean    -0.0     0.0   -0.0    0.0  ...       0.0   -0.0      0.0    -0.0\n",
              "std      1.0     1.0    1.0    1.0  ...       1.0    1.0      1.0     1.0\n",
              "min     -1.6    -1.0   -1.6   -1.0  ...      -1.7   -1.7     -1.1    -1.1\n",
              "25%     -0.8    -1.0   -0.9   -1.0  ...      -0.9   -0.9     -1.1    -1.1\n",
              "50%     -0.0     1.0    0.1    1.0  ...       0.0   -0.0     -0.2    -0.2\n",
              "75%      0.9     1.0    0.8    1.0  ...       0.9    0.8      0.9     0.9\n",
              "max      1.7     1.0    1.6    1.0  ...       1.7    1.7      2.0     1.9\n",
              "\n",
              "[8 rows x 26 columns]"
            ]
          },
          "metadata": {
            "tags": []
          }
        },
        {
          "output_type": "stream",
          "text": [
            "Validation examples summary:\n"
          ],
          "name": "stdout"
        },
        {
          "output_type": "display_data",
          "data": {
            "text/html": [
              "<div>\n",
              "<style scoped>\n",
              "    .dataframe tbody tr th:only-of-type {\n",
              "        vertical-align: middle;\n",
              "    }\n",
              "\n",
              "    .dataframe tbody tr th {\n",
              "        vertical-align: top;\n",
              "    }\n",
              "\n",
              "    .dataframe thead th {\n",
              "        text-align: right;\n",
              "    }\n",
              "</style>\n",
              "<table border=\"1\" class=\"dataframe\">\n",
              "  <thead>\n",
              "    <tr style=\"text-align: right;\">\n",
              "      <th></th>\n",
              "      <th>Age</th>\n",
              "      <th>Gender</th>\n",
              "      <th>BMI</th>\n",
              "      <th>Fever</th>\n",
              "      <th>Nausea_Vomiting</th>\n",
              "      <th>Headache</th>\n",
              "      <th>Diarrhea</th>\n",
              "      <th>Fatigue_generalized_bone_ache</th>\n",
              "      <th>Jaundice</th>\n",
              "      <th>Epigastric_pain</th>\n",
              "      <th>WBC</th>\n",
              "      <th>RBC</th>\n",
              "      <th>HGB</th>\n",
              "      <th>Plat</th>\n",
              "      <th>AST 1</th>\n",
              "      <th>ALT 1</th>\n",
              "      <th>ALT4</th>\n",
              "      <th>ALT 12</th>\n",
              "      <th>ALT 24</th>\n",
              "      <th>ALT 36</th>\n",
              "      <th>ALT 48</th>\n",
              "      <th>ALT after 24 w</th>\n",
              "      <th>RNA Base</th>\n",
              "      <th>RNA 4</th>\n",
              "      <th>RNA EOT</th>\n",
              "      <th>RNA EF</th>\n",
              "    </tr>\n",
              "  </thead>\n",
              "  <tbody>\n",
              "    <tr>\n",
              "      <th>count</th>\n",
              "      <td>300.0</td>\n",
              "      <td>300.0</td>\n",
              "      <td>300.0</td>\n",
              "      <td>300.0</td>\n",
              "      <td>300.0</td>\n",
              "      <td>300.0</td>\n",
              "      <td>300.0</td>\n",
              "      <td>300.0</td>\n",
              "      <td>300.0</td>\n",
              "      <td>300.0</td>\n",
              "      <td>300.0</td>\n",
              "      <td>300.0</td>\n",
              "      <td>300.0</td>\n",
              "      <td>300.0</td>\n",
              "      <td>300.0</td>\n",
              "      <td>300.0</td>\n",
              "      <td>300.0</td>\n",
              "      <td>300.0</td>\n",
              "      <td>300.0</td>\n",
              "      <td>300.0</td>\n",
              "      <td>300.0</td>\n",
              "      <td>300.0</td>\n",
              "      <td>300.0</td>\n",
              "      <td>300.0</td>\n",
              "      <td>300.0</td>\n",
              "      <td>300.0</td>\n",
              "    </tr>\n",
              "    <tr>\n",
              "      <th>mean</th>\n",
              "      <td>-0.0</td>\n",
              "      <td>0.1</td>\n",
              "      <td>0.1</td>\n",
              "      <td>-0.0</td>\n",
              "      <td>-0.0</td>\n",
              "      <td>-0.0</td>\n",
              "      <td>-0.0</td>\n",
              "      <td>-0.0</td>\n",
              "      <td>-0.0</td>\n",
              "      <td>0.0</td>\n",
              "      <td>0.0</td>\n",
              "      <td>-0.1</td>\n",
              "      <td>-0.0</td>\n",
              "      <td>0.1</td>\n",
              "      <td>0.0</td>\n",
              "      <td>0.0</td>\n",
              "      <td>0.1</td>\n",
              "      <td>-0.0</td>\n",
              "      <td>0.0</td>\n",
              "      <td>0.1</td>\n",
              "      <td>-0.0</td>\n",
              "      <td>-0.0</td>\n",
              "      <td>0.0</td>\n",
              "      <td>-0.1</td>\n",
              "      <td>-0.0</td>\n",
              "      <td>-0.0</td>\n",
              "    </tr>\n",
              "    <tr>\n",
              "      <th>std</th>\n",
              "      <td>1.0</td>\n",
              "      <td>1.0</td>\n",
              "      <td>1.0</td>\n",
              "      <td>1.0</td>\n",
              "      <td>1.0</td>\n",
              "      <td>1.0</td>\n",
              "      <td>1.0</td>\n",
              "      <td>1.0</td>\n",
              "      <td>1.0</td>\n",
              "      <td>1.0</td>\n",
              "      <td>1.0</td>\n",
              "      <td>1.1</td>\n",
              "      <td>1.0</td>\n",
              "      <td>1.0</td>\n",
              "      <td>1.0</td>\n",
              "      <td>1.0</td>\n",
              "      <td>1.0</td>\n",
              "      <td>1.0</td>\n",
              "      <td>1.0</td>\n",
              "      <td>1.0</td>\n",
              "      <td>1.1</td>\n",
              "      <td>1.0</td>\n",
              "      <td>1.0</td>\n",
              "      <td>1.0</td>\n",
              "      <td>1.0</td>\n",
              "      <td>1.0</td>\n",
              "    </tr>\n",
              "    <tr>\n",
              "      <th>min</th>\n",
              "      <td>-1.6</td>\n",
              "      <td>-1.0</td>\n",
              "      <td>-1.6</td>\n",
              "      <td>-1.0</td>\n",
              "      <td>-1.0</td>\n",
              "      <td>-1.0</td>\n",
              "      <td>-1.0</td>\n",
              "      <td>-1.0</td>\n",
              "      <td>-1.0</td>\n",
              "      <td>-1.0</td>\n",
              "      <td>-1.7</td>\n",
              "      <td>-1.8</td>\n",
              "      <td>-1.5</td>\n",
              "      <td>-1.7</td>\n",
              "      <td>-1.7</td>\n",
              "      <td>-1.7</td>\n",
              "      <td>-1.6</td>\n",
              "      <td>-1.7</td>\n",
              "      <td>-1.7</td>\n",
              "      <td>-1.6</td>\n",
              "      <td>-1.7</td>\n",
              "      <td>-1.6</td>\n",
              "      <td>-1.7</td>\n",
              "      <td>-1.7</td>\n",
              "      <td>-1.1</td>\n",
              "      <td>-1.1</td>\n",
              "    </tr>\n",
              "    <tr>\n",
              "      <th>25%</th>\n",
              "      <td>-0.9</td>\n",
              "      <td>-1.0</td>\n",
              "      <td>-0.9</td>\n",
              "      <td>-1.0</td>\n",
              "      <td>-1.0</td>\n",
              "      <td>-1.0</td>\n",
              "      <td>-1.0</td>\n",
              "      <td>-1.0</td>\n",
              "      <td>-1.0</td>\n",
              "      <td>-1.0</td>\n",
              "      <td>-0.9</td>\n",
              "      <td>-1.1</td>\n",
              "      <td>-0.9</td>\n",
              "      <td>-0.9</td>\n",
              "      <td>-0.8</td>\n",
              "      <td>-0.8</td>\n",
              "      <td>-0.7</td>\n",
              "      <td>-0.8</td>\n",
              "      <td>-0.8</td>\n",
              "      <td>-0.7</td>\n",
              "      <td>-1.0</td>\n",
              "      <td>-0.9</td>\n",
              "      <td>-0.8</td>\n",
              "      <td>-1.0</td>\n",
              "      <td>-1.1</td>\n",
              "      <td>-1.1</td>\n",
              "    </tr>\n",
              "    <tr>\n",
              "      <th>50%</th>\n",
              "      <td>0.1</td>\n",
              "      <td>1.0</td>\n",
              "      <td>0.1</td>\n",
              "      <td>1.0</td>\n",
              "      <td>-0.0</td>\n",
              "      <td>-1.0</td>\n",
              "      <td>-0.0</td>\n",
              "      <td>-1.0</td>\n",
              "      <td>-1.0</td>\n",
              "      <td>1.0</td>\n",
              "      <td>-0.0</td>\n",
              "      <td>-0.1</td>\n",
              "      <td>-0.4</td>\n",
              "      <td>0.1</td>\n",
              "      <td>0.0</td>\n",
              "      <td>0.0</td>\n",
              "      <td>0.1</td>\n",
              "      <td>0.0</td>\n",
              "      <td>-0.0</td>\n",
              "      <td>0.1</td>\n",
              "      <td>-0.0</td>\n",
              "      <td>-0.1</td>\n",
              "      <td>0.0</td>\n",
              "      <td>-0.1</td>\n",
              "      <td>-0.1</td>\n",
              "      <td>-0.2</td>\n",
              "    </tr>\n",
              "    <tr>\n",
              "      <th>75%</th>\n",
              "      <td>0.8</td>\n",
              "      <td>1.0</td>\n",
              "      <td>1.1</td>\n",
              "      <td>1.0</td>\n",
              "      <td>1.0</td>\n",
              "      <td>1.0</td>\n",
              "      <td>1.0</td>\n",
              "      <td>1.0</td>\n",
              "      <td>1.0</td>\n",
              "      <td>1.0</td>\n",
              "      <td>1.0</td>\n",
              "      <td>0.8</td>\n",
              "      <td>0.8</td>\n",
              "      <td>1.0</td>\n",
              "      <td>0.9</td>\n",
              "      <td>0.9</td>\n",
              "      <td>0.9</td>\n",
              "      <td>0.8</td>\n",
              "      <td>0.9</td>\n",
              "      <td>0.9</td>\n",
              "      <td>0.9</td>\n",
              "      <td>0.9</td>\n",
              "      <td>0.8</td>\n",
              "      <td>0.8</td>\n",
              "      <td>0.7</td>\n",
              "      <td>0.7</td>\n",
              "    </tr>\n",
              "    <tr>\n",
              "      <th>max</th>\n",
              "      <td>1.7</td>\n",
              "      <td>1.0</td>\n",
              "      <td>1.6</td>\n",
              "      <td>1.0</td>\n",
              "      <td>1.0</td>\n",
              "      <td>1.0</td>\n",
              "      <td>1.0</td>\n",
              "      <td>1.0</td>\n",
              "      <td>1.0</td>\n",
              "      <td>1.0</td>\n",
              "      <td>1.7</td>\n",
              "      <td>1.7</td>\n",
              "      <td>1.4</td>\n",
              "      <td>1.8</td>\n",
              "      <td>1.8</td>\n",
              "      <td>1.7</td>\n",
              "      <td>1.7</td>\n",
              "      <td>1.7</td>\n",
              "      <td>1.7</td>\n",
              "      <td>1.7</td>\n",
              "      <td>1.7</td>\n",
              "      <td>1.6</td>\n",
              "      <td>1.7</td>\n",
              "      <td>1.7</td>\n",
              "      <td>2.0</td>\n",
              "      <td>1.9</td>\n",
              "    </tr>\n",
              "  </tbody>\n",
              "</table>\n",
              "</div>"
            ],
            "text/plain": [
              "        Age  Gender   BMI  Fever  ...  RNA Base  RNA 4  RNA EOT  RNA EF\n",
              "count 300.0   300.0 300.0  300.0  ...     300.0  300.0    300.0   300.0\n",
              "mean   -0.0     0.1   0.1   -0.0  ...       0.0   -0.1     -0.0    -0.0\n",
              "std     1.0     1.0   1.0    1.0  ...       1.0    1.0      1.0     1.0\n",
              "min    -1.6    -1.0  -1.6   -1.0  ...      -1.7   -1.7     -1.1    -1.1\n",
              "25%    -0.9    -1.0  -0.9   -1.0  ...      -0.8   -1.0     -1.1    -1.1\n",
              "50%     0.1     1.0   0.1    1.0  ...       0.0   -0.1     -0.1    -0.2\n",
              "75%     0.8     1.0   1.1    1.0  ...       0.8    0.8      0.7     0.7\n",
              "max     1.7     1.0   1.6    1.0  ...       1.7    1.7      2.0     1.9\n",
              "\n",
              "[8 rows x 26 columns]"
            ]
          },
          "metadata": {
            "tags": []
          }
        },
        {
          "output_type": "stream",
          "text": [
            "Training targets summary:\n"
          ],
          "name": "stdout"
        },
        {
          "output_type": "display_data",
          "data": {
            "text/plain": [
              "count   1085.0\n",
              "mean       1.5\n",
              "std        1.1\n",
              "min        0.0\n",
              "25%        0.0\n",
              "50%        2.0\n",
              "75%        2.0\n",
              "max        3.0\n",
              "Name: Class, dtype: float64"
            ]
          },
          "metadata": {
            "tags": []
          }
        },
        {
          "output_type": "stream",
          "text": [
            "Validation targets summary:\n"
          ],
          "name": "stdout"
        },
        {
          "output_type": "display_data",
          "data": {
            "text/plain": [
              "count   300.0\n",
              "mean      1.5\n",
              "std       1.1\n",
              "min       0.0\n",
              "25%       1.0\n",
              "50%       1.0\n",
              "75%       2.0\n",
              "max       3.0\n",
              "Name: Class, dtype: float64"
            ]
          },
          "metadata": {
            "tags": []
          }
        }
      ]
    },
    {
      "cell_type": "code",
      "metadata": {
        "id": "4RBHYx5ZCd-c",
        "colab_type": "code",
        "outputId": "a03fe185-23e7-4041-913c-ae810ce20191",
        "colab": {
          "base_uri": "https://localhost:8080/",
          "height": 35
        }
      },
      "source": [
        "training_examples.shape"
      ],
      "execution_count": 8,
      "outputs": [
        {
          "output_type": "execute_result",
          "data": {
            "text/plain": [
              "(1085, 26)"
            ]
          },
          "metadata": {
            "tags": []
          },
          "execution_count": 8
        }
      ]
    },
    {
      "cell_type": "markdown",
      "metadata": {
        "id": "fwhDBDmkC6KY",
        "colab_type": "text"
      },
      "source": [
        "Build Model"
      ]
    },
    {
      "cell_type": "code",
      "metadata": {
        "id": "0JSYqO9PC63u",
        "colab_type": "code",
        "outputId": "c2325dff-765d-439c-a3de-a2fd7b805e89",
        "colab": {
          "base_uri": "https://localhost:8080/",
          "height": 272
        }
      },
      "source": [
        "baseline_model = keras.Sequential([\n",
        "    keras.layers.Dense(50, activation=tf.nn.relu,\n",
        "                       input_shape=(training_examples.shape[1],)),\n",
        "    #keras.layers.Dense(40, activation=tf.nn.relu,),\n",
        "    keras.layers.Dense(30, activation=tf.nn.relu,),\n",
        "    keras.layers.Dense(4, activation = tf.nn.softmax)\n",
        "\n",
        "  ])\n",
        "\n",
        "baseline_model.compile(loss='sparse_categorical_crossentropy',\n",
        "                optimizer=\"adam\",\n",
        "                metrics=['sparse_categorical_crossentropy'])\n",
        "baseline_model.summary()\n"
      ],
      "execution_count": 9,
      "outputs": [
        {
          "output_type": "stream",
          "text": [
            "Model: \"sequential\"\n",
            "_________________________________________________________________\n",
            "Layer (type)                 Output Shape              Param #   \n",
            "=================================================================\n",
            "dense (Dense)                (None, 50)                1350      \n",
            "_________________________________________________________________\n",
            "dense_1 (Dense)              (None, 30)                1530      \n",
            "_________________________________________________________________\n",
            "dense_2 (Dense)              (None, 4)                 124       \n",
            "=================================================================\n",
            "Total params: 3,004\n",
            "Trainable params: 3,004\n",
            "Non-trainable params: 0\n",
            "_________________________________________________________________\n"
          ],
          "name": "stdout"
        }
      ]
    },
    {
      "cell_type": "markdown",
      "metadata": {
        "id": "H2MFDgaYaBEU",
        "colab_type": "text"
      },
      "source": [
        "Fit Model"
      ]
    },
    {
      "cell_type": "code",
      "metadata": {
        "id": "fJBr8IUmaCK8",
        "colab_type": "code",
        "outputId": "7762d9cc-904d-43f1-b5d1-1caef31d8ec4",
        "colab": {
          "base_uri": "https://localhost:8080/",
          "height": 407
        }
      },
      "source": [
        "\n",
        "#class PrintDot(keras.callbacks.Callback):\n",
        "#  def on_epoch_end(self, epoch, logs):\n",
        "#    if epoch % 100 == 0: print('')\n",
        "#    print('.', end='')\n",
        "\n",
        "EPOCHS = 600\n",
        "#callback = tf.keras.callbacks.EarlyStopping(monitor='val_loss', patience=100)\n",
        "b_history = baseline_model.fit(training_examples, training_targets, epochs=EPOCHS,\n",
        "                    validation_data= (validation_examples, validation_targets), verbose=0\n",
        "                    #callbacks=[callback]\n",
        "                    )\n",
        "x = pd.DataFrame(b_history.history)\n",
        "x"
      ],
      "execution_count": 14,
      "outputs": [
        {
          "output_type": "execute_result",
          "data": {
            "text/html": [
              "<div>\n",
              "<style scoped>\n",
              "    .dataframe tbody tr th:only-of-type {\n",
              "        vertical-align: middle;\n",
              "    }\n",
              "\n",
              "    .dataframe tbody tr th {\n",
              "        vertical-align: top;\n",
              "    }\n",
              "\n",
              "    .dataframe thead th {\n",
              "        text-align: right;\n",
              "    }\n",
              "</style>\n",
              "<table border=\"1\" class=\"dataframe\">\n",
              "  <thead>\n",
              "    <tr style=\"text-align: right;\">\n",
              "      <th></th>\n",
              "      <th>loss</th>\n",
              "      <th>sparse_categorical_crossentropy</th>\n",
              "      <th>val_loss</th>\n",
              "      <th>val_sparse_categorical_crossentropy</th>\n",
              "    </tr>\n",
              "  </thead>\n",
              "  <tbody>\n",
              "    <tr>\n",
              "      <th>0</th>\n",
              "      <td>0.0</td>\n",
              "      <td>0.0</td>\n",
              "      <td>13.6</td>\n",
              "      <td>13.6</td>\n",
              "    </tr>\n",
              "    <tr>\n",
              "      <th>1</th>\n",
              "      <td>0.0</td>\n",
              "      <td>0.0</td>\n",
              "      <td>13.6</td>\n",
              "      <td>13.6</td>\n",
              "    </tr>\n",
              "    <tr>\n",
              "      <th>2</th>\n",
              "      <td>0.0</td>\n",
              "      <td>0.0</td>\n",
              "      <td>13.6</td>\n",
              "      <td>13.6</td>\n",
              "    </tr>\n",
              "    <tr>\n",
              "      <th>3</th>\n",
              "      <td>0.0</td>\n",
              "      <td>0.0</td>\n",
              "      <td>13.6</td>\n",
              "      <td>13.6</td>\n",
              "    </tr>\n",
              "    <tr>\n",
              "      <th>4</th>\n",
              "      <td>0.0</td>\n",
              "      <td>0.0</td>\n",
              "      <td>13.7</td>\n",
              "      <td>13.7</td>\n",
              "    </tr>\n",
              "    <tr>\n",
              "      <th>...</th>\n",
              "      <td>...</td>\n",
              "      <td>...</td>\n",
              "      <td>...</td>\n",
              "      <td>...</td>\n",
              "    </tr>\n",
              "    <tr>\n",
              "      <th>595</th>\n",
              "      <td>0.0</td>\n",
              "      <td>0.0</td>\n",
              "      <td>28.0</td>\n",
              "      <td>28.0</td>\n",
              "    </tr>\n",
              "    <tr>\n",
              "      <th>596</th>\n",
              "      <td>0.0</td>\n",
              "      <td>0.0</td>\n",
              "      <td>28.1</td>\n",
              "      <td>28.1</td>\n",
              "    </tr>\n",
              "    <tr>\n",
              "      <th>597</th>\n",
              "      <td>0.0</td>\n",
              "      <td>0.0</td>\n",
              "      <td>28.1</td>\n",
              "      <td>28.1</td>\n",
              "    </tr>\n",
              "    <tr>\n",
              "      <th>598</th>\n",
              "      <td>0.0</td>\n",
              "      <td>0.0</td>\n",
              "      <td>28.2</td>\n",
              "      <td>28.2</td>\n",
              "    </tr>\n",
              "    <tr>\n",
              "      <th>599</th>\n",
              "      <td>0.0</td>\n",
              "      <td>0.0</td>\n",
              "      <td>28.2</td>\n",
              "      <td>28.2</td>\n",
              "    </tr>\n",
              "  </tbody>\n",
              "</table>\n",
              "<p>600 rows × 4 columns</p>\n",
              "</div>"
            ],
            "text/plain": [
              "     loss  ...  val_sparse_categorical_crossentropy\n",
              "0     0.0  ...                                 13.6\n",
              "1     0.0  ...                                 13.6\n",
              "2     0.0  ...                                 13.6\n",
              "3     0.0  ...                                 13.6\n",
              "4     0.0  ...                                 13.7\n",
              "..    ...  ...                                  ...\n",
              "595   0.0  ...                                 28.0\n",
              "596   0.0  ...                                 28.1\n",
              "597   0.0  ...                                 28.1\n",
              "598   0.0  ...                                 28.2\n",
              "599   0.0  ...                                 28.2\n",
              "\n",
              "[600 rows x 4 columns]"
            ]
          },
          "metadata": {
            "tags": []
          },
          "execution_count": 14
        }
      ]
    },
    {
      "cell_type": "code",
      "metadata": {
        "id": "UlP2-csTEaHC",
        "colab_type": "code",
        "colab": {
          "base_uri": "https://localhost:8080/",
          "height": 407
        },
        "outputId": "fce7ee96-72e3-4445-8229-e0fa29af39b7"
      },
      "source": [
        ""
      ],
      "execution_count": 63,
      "outputs": [
        {
          "output_type": "execute_result",
          "data": {
            "text/html": [
              "<div>\n",
              "<style scoped>\n",
              "    .dataframe tbody tr th:only-of-type {\n",
              "        vertical-align: middle;\n",
              "    }\n",
              "\n",
              "    .dataframe tbody tr th {\n",
              "        vertical-align: top;\n",
              "    }\n",
              "\n",
              "    .dataframe thead th {\n",
              "        text-align: right;\n",
              "    }\n",
              "</style>\n",
              "<table border=\"1\" class=\"dataframe\">\n",
              "  <thead>\n",
              "    <tr style=\"text-align: right;\">\n",
              "      <th></th>\n",
              "      <th>loss</th>\n",
              "      <th>sparse_categorical_crossentropy</th>\n",
              "      <th>val_loss</th>\n",
              "      <th>val_sparse_categorical_crossentropy</th>\n",
              "    </tr>\n",
              "  </thead>\n",
              "  <tbody>\n",
              "    <tr>\n",
              "      <th>0</th>\n",
              "      <td>1.4</td>\n",
              "      <td>1.4</td>\n",
              "      <td>1.4</td>\n",
              "      <td>1.4</td>\n",
              "    </tr>\n",
              "    <tr>\n",
              "      <th>1</th>\n",
              "      <td>1.3</td>\n",
              "      <td>1.3</td>\n",
              "      <td>1.4</td>\n",
              "      <td>1.4</td>\n",
              "    </tr>\n",
              "    <tr>\n",
              "      <th>2</th>\n",
              "      <td>1.3</td>\n",
              "      <td>1.3</td>\n",
              "      <td>1.5</td>\n",
              "      <td>1.5</td>\n",
              "    </tr>\n",
              "    <tr>\n",
              "      <th>3</th>\n",
              "      <td>1.3</td>\n",
              "      <td>1.3</td>\n",
              "      <td>1.4</td>\n",
              "      <td>1.4</td>\n",
              "    </tr>\n",
              "    <tr>\n",
              "      <th>4</th>\n",
              "      <td>1.2</td>\n",
              "      <td>1.2</td>\n",
              "      <td>1.5</td>\n",
              "      <td>1.5</td>\n",
              "    </tr>\n",
              "    <tr>\n",
              "      <th>...</th>\n",
              "      <td>...</td>\n",
              "      <td>...</td>\n",
              "      <td>...</td>\n",
              "      <td>...</td>\n",
              "    </tr>\n",
              "    <tr>\n",
              "      <th>95</th>\n",
              "      <td>0.0</td>\n",
              "      <td>0.0</td>\n",
              "      <td>7.5</td>\n",
              "      <td>7.5</td>\n",
              "    </tr>\n",
              "    <tr>\n",
              "      <th>96</th>\n",
              "      <td>0.0</td>\n",
              "      <td>0.0</td>\n",
              "      <td>7.6</td>\n",
              "      <td>7.6</td>\n",
              "    </tr>\n",
              "    <tr>\n",
              "      <th>97</th>\n",
              "      <td>0.0</td>\n",
              "      <td>0.0</td>\n",
              "      <td>7.7</td>\n",
              "      <td>7.7</td>\n",
              "    </tr>\n",
              "    <tr>\n",
              "      <th>98</th>\n",
              "      <td>0.0</td>\n",
              "      <td>0.0</td>\n",
              "      <td>7.8</td>\n",
              "      <td>7.8</td>\n",
              "    </tr>\n",
              "    <tr>\n",
              "      <th>99</th>\n",
              "      <td>0.0</td>\n",
              "      <td>0.0</td>\n",
              "      <td>8.1</td>\n",
              "      <td>8.1</td>\n",
              "    </tr>\n",
              "  </tbody>\n",
              "</table>\n",
              "<p>100 rows × 4 columns</p>\n",
              "</div>"
            ],
            "text/plain": [
              "    loss  ...  val_sparse_categorical_crossentropy\n",
              "0    1.4  ...                                  1.4\n",
              "1    1.3  ...                                  1.4\n",
              "2    1.3  ...                                  1.5\n",
              "3    1.3  ...                                  1.4\n",
              "4    1.2  ...                                  1.5\n",
              "..   ...  ...                                  ...\n",
              "95   0.0  ...                                  7.5\n",
              "96   0.0  ...                                  7.6\n",
              "97   0.0  ...                                  7.7\n",
              "98   0.0  ...                                  7.8\n",
              "99   0.0  ...                                  8.1\n",
              "\n",
              "[100 rows x 4 columns]"
            ]
          },
          "metadata": {
            "tags": []
          },
          "execution_count": 63
        }
      ]
    },
    {
      "cell_type": "code",
      "metadata": {
        "id": "k6fXuhLXb5UN",
        "colab_type": "code",
        "outputId": "21575e24-405d-4cf3-b359-1c97900e08bd",
        "colab": {
          "base_uri": "https://localhost:8080/",
          "height": 35
        }
      },
      "source": [
        "print(max(b_history.history['val_sparse_categorical_crossentropy']))"
      ],
      "execution_count": 15,
      "outputs": [
        {
          "output_type": "stream",
          "text": [
            "28.230911\n"
          ],
          "name": "stdout"
        }
      ]
    },
    {
      "cell_type": "markdown",
      "metadata": {
        "id": "9XfqSuYJcJcq",
        "colab_type": "text"
      },
      "source": [
        "Plot Results"
      ]
    },
    {
      "cell_type": "code",
      "metadata": {
        "id": "vTstRKW1b_52",
        "colab_type": "code",
        "outputId": "cf59935d-946e-45bb-b443-c7555f383274",
        "colab": {
          "base_uri": "https://localhost:8080/",
          "height": 626
        }
      },
      "source": [
        "import matplotlib.pyplot as plt\n",
        "\n",
        "\n",
        "def plot_history(histories, key='sparse_categorical_crossentropy'):\n",
        "  plt.figure(figsize=(16,10))\n",
        "  for name, history in histories:\n",
        "    val = plt.plot(history.epoch, history.history['val_'+key],\n",
        "                   '--', label=name.title()+' Val')\n",
        "    plt.plot(history.epoch, history.history[key], color=val[0].get_color(),\n",
        "             label=name.title()+' Train')\n",
        "\n",
        "  plt.xlabel('Epochs')\n",
        "  plt.ylabel(key.replace('_',' ').title())\n",
        "  plt.legend()\n",
        "\n",
        "  plt.xlim([0,max(history.epoch)])\n",
        "  #plt.ylim([0,1])\n",
        "\n",
        "plot_history([('baseline', b_history)])"
      ],
      "execution_count": 16,
      "outputs": [
        {
          "output_type": "display_data",
          "data": {
            "image/png": "[encoded data removed]",
            "text/plain": [
              "<Figure size 1152x720 with 1 Axes>"
            ]
          },
          "metadata": {
            "tags": []
          }
        }
      ]
    },
    {
      "cell_type": "markdown",
      "metadata": {
        "id": "2UxoTBwKkDu6",
        "colab_type": "text"
      },
      "source": [
        "Predictions"
      ]
    },
    {
      "cell_type": "code",
      "metadata": {
        "id": "xyulk4hhkFE5",
        "colab_type": "code",
        "outputId": "e1bf9ddb-908a-4138-a758-da2306651346",
        "colab": {
          "base_uri": "https://localhost:8080/",
          "height": 163
        }
      },
      "source": [
        "valpreds = baseline_model.predict_on_batch(validation_examples)\n",
        "print(valpreds)"
      ],
      "execution_count": 17,
      "outputs": [
        {
          "output_type": "stream",
          "text": [
            "tf.Tensor(\n",
            "[[4.85896544e-06 9.99995112e-01 2.80085156e-11 2.16645653e-08]\n",
            " [1.86958686e-01 8.13041389e-01 3.04437024e-14 7.33209040e-23]\n",
            " [8.81347273e-24 2.41175348e-06 9.99993563e-01 4.08018104e-06]\n",
            " ...\n",
            " [0.00000000e+00 1.14877066e-20 1.08539025e-23 1.00000000e+00]\n",
            " [2.63676928e-11 9.97056842e-01 1.40518341e-18 2.94315675e-03]\n",
            " [1.05446647e-03 1.33808551e-03 2.44079232e-01 7.53528237e-01]], shape=(300, 4), dtype=float32)\n"
          ],
          "name": "stdout"
        }
      ]
    },
    {
      "cell_type": "code",
      "metadata": {
        "id": "vyoSqf5IkH1I",
        "colab_type": "code",
        "colab": {}
      },
      "source": [
        "with pd.option_context('display.max_rows', None, 'display.max_columns', None):\n",
        "    print(validation_targets)"
      ],
      "execution_count": 0,
      "outputs": []
    },
    {
      "cell_type": "code",
      "metadata": {
        "id": "g1nS1QVekLTh",
        "colab_type": "code",
        "outputId": "c9caf59a-22de-4981-d04a-dcca9440c85b",
        "colab": {
          "base_uri": "https://localhost:8080/",
          "height": 283
        }
      },
      "source": [
        "# Plot Weights\n",
        "nfw = baseline_model.get_weights()[0][0]\n",
        "y_pos = np.arange(len(nfw))\n",
        " \n",
        "plt.bar(y_pos, nfw, align='center', alpha=0.5)"
      ],
      "execution_count": 18,
      "outputs": [
        {
          "output_type": "execute_result",
          "data": {
            "text/plain": [
              "<BarContainer object of 50 artists>"
            ]
          },
          "metadata": {
            "tags": []
          },
          "execution_count": 18
        },
        {
          "output_type": "display_data",
          "data": {
            "image/png": "[encoded data removed]",
            "text/plain": [
              "<Figure size 432x288 with 1 Axes>"
            ]
          },
          "metadata": {
            "tags": []
          }
        }
      ]
    },
    {
      "cell_type": "markdown",
      "metadata": {
        "id": "sWfz5VmAkO76",
        "colab_type": "text"
      },
      "source": [
        "Regularized Models"
      ]
    },
    {
      "cell_type": "code",
      "metadata": {
        "id": "C1j3rQm0kRHN",
        "colab_type": "code",
        "colab": {}
      },
      "source": [
        "l1_model = keras.Sequential([\n",
        "    keras.layers.Dense(32, kernel_regularizer=keras.regularizers.l1(0.1), activation=tf.nn.relu,\n",
        "                       input_shape=(training_examples.shape[1],)),\n",
        "    keras.layers.Dense(32, use_bias=True, kernel_regularizer=keras.regularizers.l1(0.01), activation=tf.nn.relu),\n",
        "    keras.layers.Dense(32, use_bias=True, kernel_regularizer=keras.regularizers.l1(0.01), activation=tf.nn.relu),\n",
        "    keras.layers.Dense(32, use_bias=True, kernel_regularizer=keras.regularizers.l1(0.01), activation=tf.nn.relu),\n",
        "    keras.layers.Dense(4, activation= tf.nn.softmax)\n",
        "  ])\n",
        "\n",
        "l1_model.compile(loss='sparse_categorical_crossentropy',\n",
        "                optimizer=\"adam\",\n",
        "                metrics=['sparse_categorical_crossentropy'])\n",
        "\n",
        "l2_model = keras.Sequential([\n",
        "    keras.layers.Dense(10, kernel_regularizer=keras.regularizers.l2(0.1), activation=tf.nn.relu,\n",
        "                       input_shape=(training_examples.shape[1],)),\n",
        "    keras.layers.Dropout(0.25),\n",
        "    keras.layers.Dense(10, kernel_regularizer=keras.regularizers.l2(0.1), activation=tf.nn.relu),\n",
        "    keras.layers.Dropout(0.25),\n",
        "    keras.layers.Dense(10, kernel_regularizer=keras.regularizers.l2(0.1), activation=tf.nn.relu),\n",
        "    keras.layers.Dropout(0.25),\n",
        "    keras.layers.Dense(10, kernel_regularizer=keras.regularizers.l2(0.1), activation=tf.nn.relu),\n",
        "    keras.layers.Dense(4, activation= tf.nn.softmax)\n",
        "  ])\n",
        "\n",
        "l2_model.compile(loss='sparse_categorical_crossentropy',\n",
        "                optimizer=\"adam\",\n",
        "                metrics=['sparse_categorical_crossentropy'])\n",
        "\n",
        "\n",
        "  \n"
      ],
      "execution_count": 0,
      "outputs": []
    },
    {
      "cell_type": "code",
      "metadata": {
        "id": "cXNHV8QNkTMu",
        "colab_type": "code",
        "outputId": "2e205dfc-2919-4507-b6af-cabab0c09c7b",
        "colab": {
          "base_uri": "https://localhost:8080/",
          "height": 407
        }
      },
      "source": [
        "l1_history = l1_model.fit(training_examples, training_targets, epochs=EPOCHS,\n",
        "                    validation_data= (validation_examples, validation_targets), verbose=0,\n",
        "                    #callbacks=[PrintDot()]\n",
        "                    )\n",
        "l2_history = l2_model.fit(training_examples, training_targets, epochs=EPOCHS,\n",
        "                    validation_data= (validation_examples, validation_targets), verbose=0,\n",
        "                    #callbacks=[PrintDot()]\n",
        "                    )\n",
        "\n",
        "x = pd.DataFrame(b_history.history)\n",
        "x"
      ],
      "execution_count": 21,
      "outputs": [
        {
          "output_type": "execute_result",
          "data": {
            "text/html": [
              "<div>\n",
              "<style scoped>\n",
              "    .dataframe tbody tr th:only-of-type {\n",
              "        vertical-align: middle;\n",
              "    }\n",
              "\n",
              "    .dataframe tbody tr th {\n",
              "        vertical-align: top;\n",
              "    }\n",
              "\n",
              "    .dataframe thead th {\n",
              "        text-align: right;\n",
              "    }\n",
              "</style>\n",
              "<table border=\"1\" class=\"dataframe\">\n",
              "  <thead>\n",
              "    <tr style=\"text-align: right;\">\n",
              "      <th></th>\n",
              "      <th>loss</th>\n",
              "      <th>sparse_categorical_crossentropy</th>\n",
              "      <th>val_loss</th>\n",
              "      <th>val_sparse_categorical_crossentropy</th>\n",
              "    </tr>\n",
              "  </thead>\n",
              "  <tbody>\n",
              "    <tr>\n",
              "      <th>0</th>\n",
              "      <td>0.0</td>\n",
              "      <td>0.0</td>\n",
              "      <td>13.6</td>\n",
              "      <td>13.6</td>\n",
              "    </tr>\n",
              "    <tr>\n",
              "      <th>1</th>\n",
              "      <td>0.0</td>\n",
              "      <td>0.0</td>\n",
              "      <td>13.6</td>\n",
              "      <td>13.6</td>\n",
              "    </tr>\n",
              "    <tr>\n",
              "      <th>2</th>\n",
              "      <td>0.0</td>\n",
              "      <td>0.0</td>\n",
              "      <td>13.6</td>\n",
              "      <td>13.6</td>\n",
              "    </tr>\n",
              "    <tr>\n",
              "      <th>3</th>\n",
              "      <td>0.0</td>\n",
              "      <td>0.0</td>\n",
              "      <td>13.6</td>\n",
              "      <td>13.6</td>\n",
              "    </tr>\n",
              "    <tr>\n",
              "      <th>4</th>\n",
              "      <td>0.0</td>\n",
              "      <td>0.0</td>\n",
              "      <td>13.7</td>\n",
              "      <td>13.7</td>\n",
              "    </tr>\n",
              "    <tr>\n",
              "      <th>...</th>\n",
              "      <td>...</td>\n",
              "      <td>...</td>\n",
              "      <td>...</td>\n",
              "      <td>...</td>\n",
              "    </tr>\n",
              "    <tr>\n",
              "      <th>595</th>\n",
              "      <td>0.0</td>\n",
              "      <td>0.0</td>\n",
              "      <td>28.0</td>\n",
              "      <td>28.0</td>\n",
              "    </tr>\n",
              "    <tr>\n",
              "      <th>596</th>\n",
              "      <td>0.0</td>\n",
              "      <td>0.0</td>\n",
              "      <td>28.1</td>\n",
              "      <td>28.1</td>\n",
              "    </tr>\n",
              "    <tr>\n",
              "      <th>597</th>\n",
              "      <td>0.0</td>\n",
              "      <td>0.0</td>\n",
              "      <td>28.1</td>\n",
              "      <td>28.1</td>\n",
              "    </tr>\n",
              "    <tr>\n",
              "      <th>598</th>\n",
              "      <td>0.0</td>\n",
              "      <td>0.0</td>\n",
              "      <td>28.2</td>\n",
              "      <td>28.2</td>\n",
              "    </tr>\n",
              "    <tr>\n",
              "      <th>599</th>\n",
              "      <td>0.0</td>\n",
              "      <td>0.0</td>\n",
              "      <td>28.2</td>\n",
              "      <td>28.2</td>\n",
              "    </tr>\n",
              "  </tbody>\n",
              "</table>\n",
              "<p>600 rows × 4 columns</p>\n",
              "</div>"
            ],
            "text/plain": [
              "     loss  ...  val_sparse_categorical_crossentropy\n",
              "0     0.0  ...                                 13.6\n",
              "1     0.0  ...                                 13.6\n",
              "2     0.0  ...                                 13.6\n",
              "3     0.0  ...                                 13.6\n",
              "4     0.0  ...                                 13.7\n",
              "..    ...  ...                                  ...\n",
              "595   0.0  ...                                 28.0\n",
              "596   0.0  ...                                 28.1\n",
              "597   0.0  ...                                 28.1\n",
              "598   0.0  ...                                 28.2\n",
              "599   0.0  ...                                 28.2\n",
              "\n",
              "[600 rows x 4 columns]"
            ]
          },
          "metadata": {
            "tags": []
          },
          "execution_count": 21
        }
      ]
    },
    {
      "cell_type": "code",
      "metadata": {
        "id": "x9BvOQB0kVIS",
        "colab_type": "code",
        "outputId": "bebab1d0-5dcd-47c8-836f-69fa9caf3d2e",
        "colab": {
          "base_uri": "https://localhost:8080/",
          "height": 626
        }
      },
      "source": [
        "# Plot history Multiple\n",
        "plot_history([('baseline', b_history),\n",
        "              ('L1', l1_history),\n",
        "              ('L2', l2_history)])"
      ],
      "execution_count": 22,
      "outputs": [
        {
          "output_type": "display_data",
          "data": {
            "image/png": "[encoded data removed]",
            "text/plain": [
              "<Figure size 1152x720 with 1 Axes>"
            ]
          },
          "metadata": {
            "tags": []
          }
        }
      ]
    }
  ]
}
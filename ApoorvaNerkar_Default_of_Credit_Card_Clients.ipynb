{
  "nbformat": 4,
  "nbformat_minor": 0,
  "metadata": {
    "colab": {
      "name": "ApoorvaNerkar_Default of Credit Card Clients.ipynb",
      "provenance": [],
      "collapsed_sections": []
    },
    "kernelspec": {
      "name": "python3",
      "display_name": "Python 3"
    }
  },
  "cells": [
    {
      "cell_type": "markdown",
      "metadata": {
        "id": "1Sv6bocUvxbT",
        "colab_type": "text"
      },
      "source": [
        "Credit Card Clients"
      ]
    },
    {
      "cell_type": "markdown",
      "metadata": {
        "id": "88pnQO4_BB_V",
        "colab_type": "text"
      },
      "source": [
        "Import Libraries"
      ]
    },
    {
      "cell_type": "code",
      "metadata": {
        "id": "Utq9qFEJ76Tu",
        "colab_type": "code",
        "outputId": "7582a93c-f10e-471b-99a8-c2f03207478c",
        "colab": {
          "base_uri": "https://localhost:8080/",
          "height": 54
        }
      },
      "source": [
        "%tensorflow_version 2.x\n",
        "from numpy.random import seed\n",
        "seed(2)\n",
        "import tensorflow as tf\n",
        "from tensorflow import keras\n",
        "from IPython import display\n",
        "from matplotlib import cm\n",
        "from matplotlib import gridspec\n",
        "from matplotlib import pyplot as plt\n",
        "import numpy as np\n",
        "import pandas as pd\n",
        "from tensorflow.python.data import Dataset\n",
        "from sklearn import preprocessing\n",
        "from sklearn.preprocessing import StandardScaler\n",
        "print(tf.__version__)"
      ],
      "execution_count": 2,
      "outputs": [
        {
          "output_type": "stream",
          "text": [
            "TensorFlow 2.x selected.\n",
            "2.1.0\n"
          ],
          "name": "stdout"
        }
      ]
    },
    {
      "cell_type": "markdown",
      "metadata": {
        "id": "g1Inn-ptBRo2",
        "colab_type": "text"
      },
      "source": [
        "Import Data"
      ]
    },
    {
      "cell_type": "code",
      "metadata": {
        "id": "2LTpYWX279Fo",
        "colab_type": "code",
        "outputId": "28168767-58d2-4212-dda6-ab23e00675d0",
        "colab": {
          "base_uri": "https://localhost:8080/",
          "height": 254
        }
      },
      "source": [
        "pd.options.display.max_rows = 10\n",
        "pd.options.display.float_format = '{:.1f}'.format\n",
        "\n",
        "payment_dataframe = pd.read_excel(\"default of credit card clients.xls\", skiprows=[0])\n",
        "payment_dataframe = payment_dataframe.reindex(\n",
        "    np.random.permutation(payment_dataframe.index))\n",
        "print(payment_dataframe.head(10))"
      ],
      "execution_count": 3,
      "outputs": [
        {
          "output_type": "stream",
          "text": [
            "          ID  LIMIT_BAL  SEX  ...  PAY_AMT5  PAY_AMT6  default payment next month\n",
            "7945    7946      20000    2  ...      1000       282                           1\n",
            "16536  16537     500000    1  ...      5021      4350                           0\n",
            "26726  26727     150000    1  ...       660         0                           0\n",
            "16333  16334      60000    2  ...      1029      1074                           1\n",
            "20629  20630     220000    1  ...      1019      1045                           0\n",
            "321      322     340000    2  ...      2732     50000                           0\n",
            "9579    9580      50000    1  ...      2000      1000                           0\n",
            "27004  27005      60000    1  ...         0         0                           0\n",
            "2360    2361      20000    2  ...         0      1664                           0\n",
            "6593    6594      50000    1  ...       683       680                           0\n",
            "\n",
            "[10 rows x 25 columns]\n"
          ],
          "name": "stdout"
        }
      ]
    },
    {
      "cell_type": "code",
      "metadata": {
        "id": "14VrJ0wO8O94",
        "colab_type": "code",
        "outputId": "09bb6d8f-9ad7-47eb-c178-51d00d8370b5",
        "colab": {
          "base_uri": "https://localhost:8080/",
          "height": 35
        }
      },
      "source": [
        "payment_dataframe.shape[0]"
      ],
      "execution_count": 4,
      "outputs": [
        {
          "output_type": "execute_result",
          "data": {
            "text/plain": [
              "30000"
            ]
          },
          "metadata": {
            "tags": []
          },
          "execution_count": 4
        }
      ]
    },
    {
      "cell_type": "markdown",
      "metadata": {
        "id": "90xxq4lzA9LQ",
        "colab_type": "text"
      },
      "source": [
        "Preprocess"
      ]
    },
    {
      "cell_type": "code",
      "metadata": {
        "id": "-o2LaG3h8kwS",
        "colab_type": "code",
        "colab": {}
      },
      "source": [
        "def preprocess_features(payment_dataframe):\n",
        "\n",
        "  selected_features = payment_dataframe[\n",
        "    [\"LIMIT_BAL\",\n",
        "     \"SEX\",\n",
        "     \"EDUCATION\",\n",
        "     \"MARRIAGE\",\n",
        "     \"AGE\",\n",
        "     \"PAY_0\",\n",
        "     \"PAY_2\",\n",
        "     \"PAY_3\",\n",
        "     \"PAY_4\",\n",
        "     \"PAY_5\",\n",
        "     \"PAY_6\",\n",
        "     \"BILL_AMT1\",\n",
        "     \"BILL_AMT2\",\n",
        "     \"BILL_AMT3\",\n",
        "     \"BILL_AMT4\",\n",
        "     \"BILL_AMT5\",\n",
        "     \"BILL_AMT6\",\n",
        "     \"PAY_AMT1\",\n",
        "     \"PAY_AMT2\",\n",
        "     \"PAY_AMT3\",\n",
        "     \"PAY_AMT4\",\n",
        "     \"PAY_AMT5\",\n",
        "     \"PAY_AMT6\"]]\n",
        "    \n",
        "  processed_features = selected_features.copy()\n",
        "  \n",
        "  return processed_features\n",
        "\n",
        "def preprocess_targets(payment_dataframe):\n",
        "\n",
        "  output_targets = payment_dataframe[\"default payment next month\"]\n",
        "  return output_targets"
      ],
      "execution_count": 0,
      "outputs": []
    },
    {
      "cell_type": "markdown",
      "metadata": {
        "id": "7HN8PcUIhObE",
        "colab_type": "text"
      },
      "source": [
        "Calculating Baseline"
      ]
    },
    {
      "cell_type": "code",
      "metadata": {
        "id": "CLCvQ5Jqadha",
        "colab_type": "code",
        "outputId": "9fe37209-2e2c-478f-e0af-3dfa86d6dd0d",
        "colab": {
          "base_uri": "https://localhost:8080/",
          "height": 72
        }
      },
      "source": [
        "(payment_dataframe[\"default payment next month\"].value_counts()) / (payment_dataframe[\"default payment next month\"].size) * 100\n",
        "\n",
        "# Majority class is 0. The baseline is ~80%."
      ],
      "execution_count": 6,
      "outputs": [
        {
          "output_type": "execute_result",
          "data": {
            "text/plain": [
              "0   77.9\n",
              "1   22.1\n",
              "Name: default payment next month, dtype: float64"
            ]
          },
          "metadata": {
            "tags": []
          },
          "execution_count": 6
        }
      ]
    },
    {
      "cell_type": "markdown",
      "metadata": {
        "id": "-R_UbORhBeBs",
        "colab_type": "text"
      },
      "source": [
        "Train/Validation Split"
      ]
    },
    {
      "cell_type": "code",
      "metadata": {
        "id": "tCZqbFyWBggw",
        "colab_type": "code",
        "outputId": "7cbbf26f-800b-4cc4-c4fd-2b2cac5dcd32",
        "colab": {
          "base_uri": "https://localhost:8080/",
          "height": 1000
        }
      },
      "source": [
        "# Choose the first 24000 examples for training.\n",
        "training_examples = preprocess_features(payment_dataframe.head(24000))\n",
        "training_targets = preprocess_targets(payment_dataframe.head(24000))\n",
        "scaler = StandardScaler().fit(training_examples.values)\n",
        "scaledf = scaler.transform(training_examples.values)\n",
        "training_examples = pd.DataFrame(scaledf, index=training_examples.index, columns=training_examples.columns)\n",
        "print(training_examples.head(20))\n",
        "\n",
        "\n",
        "# Choose the 6000 examples for validation.\n",
        "validation_examples = preprocess_features(payment_dataframe.tail(6000))\n",
        "vscaled = scaler.transform(validation_examples.values)\n",
        "validation_examples = pd.DataFrame(vscaled, index=validation_examples.index, columns=validation_examples.columns)\n",
        "validation_targets = preprocess_targets(payment_dataframe.tail(6000))\n",
        "\n",
        "\n",
        "\n",
        "# Double-check that we've done the right thing.\n",
        "print(\"Training examples summary:\")\n",
        "display.display(training_examples.describe())\n",
        "print(\"Validation examples summary:\")\n",
        "display.display(validation_examples.describe())\n",
        "\n",
        "print(\"Training targets summary:\")\n",
        "display.display(training_targets.describe())\n",
        "print(\"Validation targets summary:\")\n",
        "display.display(validation_targets.describe())\n"
      ],
      "execution_count": 7,
      "outputs": [
        {
          "output_type": "stream",
          "text": [
            "       LIMIT_BAL  SEX  EDUCATION  ...  PAY_AMT4  PAY_AMT5  PAY_AMT6\n",
            "7945        -1.1  0.8        0.2  ...      -0.3      -0.2      -0.3\n",
            "16536        2.6 -1.2        0.2  ...      -0.0       0.0      -0.0\n",
            "26726       -0.1 -1.2       -1.1  ...      -0.3      -0.3      -0.3\n",
            "16333       -0.8  0.8        0.2  ...      -0.2      -0.2      -0.2\n",
            "20629        0.4 -1.2       -1.1  ...      -0.3      -0.2      -0.2\n",
            "...          ...  ...        ...  ...       ...       ...       ...\n",
            "12965       -0.7  0.8       -1.1  ...       1.0      -0.3      -0.2\n",
            "27417        0.3 -1.2       -1.1  ...      -0.3      -0.3       0.5\n",
            "272          0.7  0.8       -1.1  ...      -0.3      -0.3      -0.3\n",
            "20122        0.6  0.8        0.2  ...       0.1       0.0       0.1\n",
            "4387        -0.6 -1.2        0.2  ...      -0.3      -0.3      -0.3\n",
            "\n",
            "[20 rows x 23 columns]\n",
            "Training examples summary:\n"
          ],
          "name": "stdout"
        },
        {
          "output_type": "display_data",
          "data": {
            "text/html": [
              "<div>\n",
              "<style scoped>\n",
              "    .dataframe tbody tr th:only-of-type {\n",
              "        vertical-align: middle;\n",
              "    }\n",
              "\n",
              "    .dataframe tbody tr th {\n",
              "        vertical-align: top;\n",
              "    }\n",
              "\n",
              "    .dataframe thead th {\n",
              "        text-align: right;\n",
              "    }\n",
              "</style>\n",
              "<table border=\"1\" class=\"dataframe\">\n",
              "  <thead>\n",
              "    <tr style=\"text-align: right;\">\n",
              "      <th></th>\n",
              "      <th>LIMIT_BAL</th>\n",
              "      <th>SEX</th>\n",
              "      <th>EDUCATION</th>\n",
              "      <th>MARRIAGE</th>\n",
              "      <th>AGE</th>\n",
              "      <th>PAY_0</th>\n",
              "      <th>PAY_2</th>\n",
              "      <th>PAY_3</th>\n",
              "      <th>PAY_4</th>\n",
              "      <th>PAY_5</th>\n",
              "      <th>PAY_6</th>\n",
              "      <th>BILL_AMT1</th>\n",
              "      <th>BILL_AMT2</th>\n",
              "      <th>BILL_AMT3</th>\n",
              "      <th>BILL_AMT4</th>\n",
              "      <th>BILL_AMT5</th>\n",
              "      <th>BILL_AMT6</th>\n",
              "      <th>PAY_AMT1</th>\n",
              "      <th>PAY_AMT2</th>\n",
              "      <th>PAY_AMT3</th>\n",
              "      <th>PAY_AMT4</th>\n",
              "      <th>PAY_AMT5</th>\n",
              "      <th>PAY_AMT6</th>\n",
              "    </tr>\n",
              "  </thead>\n",
              "  <tbody>\n",
              "    <tr>\n",
              "      <th>count</th>\n",
              "      <td>24000.0</td>\n",
              "      <td>24000.0</td>\n",
              "      <td>24000.0</td>\n",
              "      <td>24000.0</td>\n",
              "      <td>24000.0</td>\n",
              "      <td>24000.0</td>\n",
              "      <td>24000.0</td>\n",
              "      <td>24000.0</td>\n",
              "      <td>24000.0</td>\n",
              "      <td>24000.0</td>\n",
              "      <td>24000.0</td>\n",
              "      <td>24000.0</td>\n",
              "      <td>24000.0</td>\n",
              "      <td>24000.0</td>\n",
              "      <td>24000.0</td>\n",
              "      <td>24000.0</td>\n",
              "      <td>24000.0</td>\n",
              "      <td>24000.0</td>\n",
              "      <td>24000.0</td>\n",
              "      <td>24000.0</td>\n",
              "      <td>24000.0</td>\n",
              "      <td>24000.0</td>\n",
              "      <td>24000.0</td>\n",
              "    </tr>\n",
              "    <tr>\n",
              "      <th>mean</th>\n",
              "      <td>0.0</td>\n",
              "      <td>-0.0</td>\n",
              "      <td>0.0</td>\n",
              "      <td>0.0</td>\n",
              "      <td>0.0</td>\n",
              "      <td>-0.0</td>\n",
              "      <td>-0.0</td>\n",
              "      <td>-0.0</td>\n",
              "      <td>0.0</td>\n",
              "      <td>0.0</td>\n",
              "      <td>0.0</td>\n",
              "      <td>-0.0</td>\n",
              "      <td>-0.0</td>\n",
              "      <td>-0.0</td>\n",
              "      <td>-0.0</td>\n",
              "      <td>-0.0</td>\n",
              "      <td>0.0</td>\n",
              "      <td>0.0</td>\n",
              "      <td>-0.0</td>\n",
              "      <td>-0.0</td>\n",
              "      <td>0.0</td>\n",
              "      <td>-0.0</td>\n",
              "      <td>-0.0</td>\n",
              "    </tr>\n",
              "    <tr>\n",
              "      <th>std</th>\n",
              "      <td>1.0</td>\n",
              "      <td>1.0</td>\n",
              "      <td>1.0</td>\n",
              "      <td>1.0</td>\n",
              "      <td>1.0</td>\n",
              "      <td>1.0</td>\n",
              "      <td>1.0</td>\n",
              "      <td>1.0</td>\n",
              "      <td>1.0</td>\n",
              "      <td>1.0</td>\n",
              "      <td>1.0</td>\n",
              "      <td>1.0</td>\n",
              "      <td>1.0</td>\n",
              "      <td>1.0</td>\n",
              "      <td>1.0</td>\n",
              "      <td>1.0</td>\n",
              "      <td>1.0</td>\n",
              "      <td>1.0</td>\n",
              "      <td>1.0</td>\n",
              "      <td>1.0</td>\n",
              "      <td>1.0</td>\n",
              "      <td>1.0</td>\n",
              "      <td>1.0</td>\n",
              "    </tr>\n",
              "    <tr>\n",
              "      <th>min</th>\n",
              "      <td>-1.2</td>\n",
              "      <td>-1.2</td>\n",
              "      <td>-2.3</td>\n",
              "      <td>-3.0</td>\n",
              "      <td>-1.6</td>\n",
              "      <td>-1.8</td>\n",
              "      <td>-1.6</td>\n",
              "      <td>-1.5</td>\n",
              "      <td>-1.5</td>\n",
              "      <td>-1.5</td>\n",
              "      <td>-1.5</td>\n",
              "      <td>-3.0</td>\n",
              "      <td>-1.6</td>\n",
              "      <td>-3.0</td>\n",
              "      <td>-3.3</td>\n",
              "      <td>-2.0</td>\n",
              "      <td>-6.4</td>\n",
              "      <td>-0.3</td>\n",
              "      <td>-0.2</td>\n",
              "      <td>-0.3</td>\n",
              "      <td>-0.3</td>\n",
              "      <td>-0.3</td>\n",
              "      <td>-0.3</td>\n",
              "    </tr>\n",
              "    <tr>\n",
              "      <th>25%</th>\n",
              "      <td>-0.9</td>\n",
              "      <td>-1.2</td>\n",
              "      <td>-1.1</td>\n",
              "      <td>-1.1</td>\n",
              "      <td>-0.8</td>\n",
              "      <td>-0.9</td>\n",
              "      <td>-0.7</td>\n",
              "      <td>-0.7</td>\n",
              "      <td>-0.7</td>\n",
              "      <td>-0.6</td>\n",
              "      <td>-0.6</td>\n",
              "      <td>-0.6</td>\n",
              "      <td>-0.6</td>\n",
              "      <td>-0.6</td>\n",
              "      <td>-0.6</td>\n",
              "      <td>-0.6</td>\n",
              "      <td>-0.6</td>\n",
              "      <td>-0.3</td>\n",
              "      <td>-0.2</td>\n",
              "      <td>-0.3</td>\n",
              "      <td>-0.3</td>\n",
              "      <td>-0.3</td>\n",
              "      <td>-0.3</td>\n",
              "    </tr>\n",
              "    <tr>\n",
              "      <th>50%</th>\n",
              "      <td>-0.2</td>\n",
              "      <td>0.8</td>\n",
              "      <td>0.2</td>\n",
              "      <td>0.9</td>\n",
              "      <td>-0.2</td>\n",
              "      <td>0.0</td>\n",
              "      <td>0.1</td>\n",
              "      <td>0.1</td>\n",
              "      <td>0.2</td>\n",
              "      <td>0.2</td>\n",
              "      <td>0.3</td>\n",
              "      <td>-0.4</td>\n",
              "      <td>-0.4</td>\n",
              "      <td>-0.4</td>\n",
              "      <td>-0.4</td>\n",
              "      <td>-0.4</td>\n",
              "      <td>-0.4</td>\n",
              "      <td>-0.2</td>\n",
              "      <td>-0.2</td>\n",
              "      <td>-0.2</td>\n",
              "      <td>-0.2</td>\n",
              "      <td>-0.2</td>\n",
              "      <td>-0.2</td>\n",
              "    </tr>\n",
              "    <tr>\n",
              "      <th>75%</th>\n",
              "      <td>0.6</td>\n",
              "      <td>0.8</td>\n",
              "      <td>0.2</td>\n",
              "      <td>0.9</td>\n",
              "      <td>0.6</td>\n",
              "      <td>0.0</td>\n",
              "      <td>0.1</td>\n",
              "      <td>0.1</td>\n",
              "      <td>0.2</td>\n",
              "      <td>0.2</td>\n",
              "      <td>0.3</td>\n",
              "      <td>0.2</td>\n",
              "      <td>0.2</td>\n",
              "      <td>0.2</td>\n",
              "      <td>0.2</td>\n",
              "      <td>0.2</td>\n",
              "      <td>0.2</td>\n",
              "      <td>-0.0</td>\n",
              "      <td>-0.0</td>\n",
              "      <td>-0.0</td>\n",
              "      <td>-0.1</td>\n",
              "      <td>-0.1</td>\n",
              "      <td>-0.1</td>\n",
              "    </tr>\n",
              "    <tr>\n",
              "      <th>max</th>\n",
              "      <td>6.4</td>\n",
              "      <td>0.8</td>\n",
              "      <td>5.2</td>\n",
              "      <td>2.8</td>\n",
              "      <td>4.7</td>\n",
              "      <td>7.1</td>\n",
              "      <td>6.8</td>\n",
              "      <td>6.8</td>\n",
              "      <td>7.0</td>\n",
              "      <td>7.3</td>\n",
              "      <td>7.2</td>\n",
              "      <td>12.5</td>\n",
              "      <td>13.2</td>\n",
              "      <td>23.4</td>\n",
              "      <td>13.2</td>\n",
              "      <td>14.7</td>\n",
              "      <td>15.5</td>\n",
              "      <td>51.4</td>\n",
              "      <td>68.4</td>\n",
              "      <td>49.6</td>\n",
              "      <td>39.0</td>\n",
              "      <td>26.9</td>\n",
              "      <td>29.4</td>\n",
              "    </tr>\n",
              "  </tbody>\n",
              "</table>\n",
              "</div>"
            ],
            "text/plain": [
              "       LIMIT_BAL     SEX  EDUCATION  ...  PAY_AMT4  PAY_AMT5  PAY_AMT6\n",
              "count    24000.0 24000.0    24000.0  ...   24000.0   24000.0   24000.0\n",
              "mean         0.0    -0.0        0.0  ...       0.0      -0.0      -0.0\n",
              "std          1.0     1.0        1.0  ...       1.0       1.0       1.0\n",
              "min         -1.2    -1.2       -2.3  ...      -0.3      -0.3      -0.3\n",
              "25%         -0.9    -1.2       -1.1  ...      -0.3      -0.3      -0.3\n",
              "50%         -0.2     0.8        0.2  ...      -0.2      -0.2      -0.2\n",
              "75%          0.6     0.8        0.2  ...      -0.1      -0.1      -0.1\n",
              "max          6.4     0.8        5.2  ...      39.0      26.9      29.4\n",
              "\n",
              "[8 rows x 23 columns]"
            ]
          },
          "metadata": {
            "tags": []
          }
        },
        {
          "output_type": "stream",
          "text": [
            "Validation examples summary:\n"
          ],
          "name": "stdout"
        },
        {
          "output_type": "display_data",
          "data": {
            "text/html": [
              "<div>\n",
              "<style scoped>\n",
              "    .dataframe tbody tr th:only-of-type {\n",
              "        vertical-align: middle;\n",
              "    }\n",
              "\n",
              "    .dataframe tbody tr th {\n",
              "        vertical-align: top;\n",
              "    }\n",
              "\n",
              "    .dataframe thead th {\n",
              "        text-align: right;\n",
              "    }\n",
              "</style>\n",
              "<table border=\"1\" class=\"dataframe\">\n",
              "  <thead>\n",
              "    <tr style=\"text-align: right;\">\n",
              "      <th></th>\n",
              "      <th>LIMIT_BAL</th>\n",
              "      <th>SEX</th>\n",
              "      <th>EDUCATION</th>\n",
              "      <th>MARRIAGE</th>\n",
              "      <th>AGE</th>\n",
              "      <th>PAY_0</th>\n",
              "      <th>PAY_2</th>\n",
              "      <th>PAY_3</th>\n",
              "      <th>PAY_4</th>\n",
              "      <th>PAY_5</th>\n",
              "      <th>PAY_6</th>\n",
              "      <th>BILL_AMT1</th>\n",
              "      <th>BILL_AMT2</th>\n",
              "      <th>BILL_AMT3</th>\n",
              "      <th>BILL_AMT4</th>\n",
              "      <th>BILL_AMT5</th>\n",
              "      <th>BILL_AMT6</th>\n",
              "      <th>PAY_AMT1</th>\n",
              "      <th>PAY_AMT2</th>\n",
              "      <th>PAY_AMT3</th>\n",
              "      <th>PAY_AMT4</th>\n",
              "      <th>PAY_AMT5</th>\n",
              "      <th>PAY_AMT6</th>\n",
              "    </tr>\n",
              "  </thead>\n",
              "  <tbody>\n",
              "    <tr>\n",
              "      <th>count</th>\n",
              "      <td>6000.0</td>\n",
              "      <td>6000.0</td>\n",
              "      <td>6000.0</td>\n",
              "      <td>6000.0</td>\n",
              "      <td>6000.0</td>\n",
              "      <td>6000.0</td>\n",
              "      <td>6000.0</td>\n",
              "      <td>6000.0</td>\n",
              "      <td>6000.0</td>\n",
              "      <td>6000.0</td>\n",
              "      <td>6000.0</td>\n",
              "      <td>6000.0</td>\n",
              "      <td>6000.0</td>\n",
              "      <td>6000.0</td>\n",
              "      <td>6000.0</td>\n",
              "      <td>6000.0</td>\n",
              "      <td>6000.0</td>\n",
              "      <td>6000.0</td>\n",
              "      <td>6000.0</td>\n",
              "      <td>6000.0</td>\n",
              "      <td>6000.0</td>\n",
              "      <td>6000.0</td>\n",
              "      <td>6000.0</td>\n",
              "    </tr>\n",
              "    <tr>\n",
              "      <th>mean</th>\n",
              "      <td>0.0</td>\n",
              "      <td>0.0</td>\n",
              "      <td>-0.0</td>\n",
              "      <td>-0.0</td>\n",
              "      <td>-0.0</td>\n",
              "      <td>0.0</td>\n",
              "      <td>-0.0</td>\n",
              "      <td>-0.0</td>\n",
              "      <td>-0.0</td>\n",
              "      <td>0.0</td>\n",
              "      <td>0.0</td>\n",
              "      <td>0.0</td>\n",
              "      <td>0.0</td>\n",
              "      <td>0.0</td>\n",
              "      <td>0.0</td>\n",
              "      <td>0.0</td>\n",
              "      <td>0.0</td>\n",
              "      <td>0.0</td>\n",
              "      <td>-0.0</td>\n",
              "      <td>0.0</td>\n",
              "      <td>0.0</td>\n",
              "      <td>-0.0</td>\n",
              "      <td>0.0</td>\n",
              "    </tr>\n",
              "    <tr>\n",
              "      <th>std</th>\n",
              "      <td>1.0</td>\n",
              "      <td>1.0</td>\n",
              "      <td>1.0</td>\n",
              "      <td>1.0</td>\n",
              "      <td>1.0</td>\n",
              "      <td>1.0</td>\n",
              "      <td>1.0</td>\n",
              "      <td>1.0</td>\n",
              "      <td>1.0</td>\n",
              "      <td>1.0</td>\n",
              "      <td>1.0</td>\n",
              "      <td>1.0</td>\n",
              "      <td>1.0</td>\n",
              "      <td>1.0</td>\n",
              "      <td>1.0</td>\n",
              "      <td>1.0</td>\n",
              "      <td>1.0</td>\n",
              "      <td>0.9</td>\n",
              "      <td>0.6</td>\n",
              "      <td>0.9</td>\n",
              "      <td>1.0</td>\n",
              "      <td>0.9</td>\n",
              "      <td>1.0</td>\n",
              "    </tr>\n",
              "    <tr>\n",
              "      <th>min</th>\n",
              "      <td>-1.2</td>\n",
              "      <td>-1.2</td>\n",
              "      <td>-2.3</td>\n",
              "      <td>-3.0</td>\n",
              "      <td>-1.6</td>\n",
              "      <td>-1.8</td>\n",
              "      <td>-1.6</td>\n",
              "      <td>-1.5</td>\n",
              "      <td>-1.5</td>\n",
              "      <td>-1.5</td>\n",
              "      <td>-1.5</td>\n",
              "      <td>-0.8</td>\n",
              "      <td>-1.7</td>\n",
              "      <td>-1.0</td>\n",
              "      <td>-1.4</td>\n",
              "      <td>-1.4</td>\n",
              "      <td>-3.2</td>\n",
              "      <td>-0.3</td>\n",
              "      <td>-0.2</td>\n",
              "      <td>-0.3</td>\n",
              "      <td>-0.3</td>\n",
              "      <td>-0.3</td>\n",
              "      <td>-0.3</td>\n",
              "    </tr>\n",
              "    <tr>\n",
              "      <th>25%</th>\n",
              "      <td>-0.8</td>\n",
              "      <td>-1.2</td>\n",
              "      <td>-1.1</td>\n",
              "      <td>-1.1</td>\n",
              "      <td>-0.8</td>\n",
              "      <td>-0.9</td>\n",
              "      <td>-0.7</td>\n",
              "      <td>-0.7</td>\n",
              "      <td>-0.7</td>\n",
              "      <td>-0.6</td>\n",
              "      <td>-0.6</td>\n",
              "      <td>-0.6</td>\n",
              "      <td>-0.6</td>\n",
              "      <td>-0.6</td>\n",
              "      <td>-0.6</td>\n",
              "      <td>-0.6</td>\n",
              "      <td>-0.6</td>\n",
              "      <td>-0.3</td>\n",
              "      <td>-0.2</td>\n",
              "      <td>-0.3</td>\n",
              "      <td>-0.3</td>\n",
              "      <td>-0.3</td>\n",
              "      <td>-0.3</td>\n",
              "    </tr>\n",
              "    <tr>\n",
              "      <th>50%</th>\n",
              "      <td>-0.2</td>\n",
              "      <td>0.8</td>\n",
              "      <td>0.2</td>\n",
              "      <td>0.9</td>\n",
              "      <td>-0.2</td>\n",
              "      <td>0.0</td>\n",
              "      <td>0.1</td>\n",
              "      <td>0.1</td>\n",
              "      <td>0.2</td>\n",
              "      <td>0.2</td>\n",
              "      <td>0.3</td>\n",
              "      <td>-0.4</td>\n",
              "      <td>-0.4</td>\n",
              "      <td>-0.4</td>\n",
              "      <td>-0.4</td>\n",
              "      <td>-0.4</td>\n",
              "      <td>-0.4</td>\n",
              "      <td>-0.2</td>\n",
              "      <td>-0.2</td>\n",
              "      <td>-0.2</td>\n",
              "      <td>-0.2</td>\n",
              "      <td>-0.2</td>\n",
              "      <td>-0.2</td>\n",
              "    </tr>\n",
              "    <tr>\n",
              "      <th>75%</th>\n",
              "      <td>0.6</td>\n",
              "      <td>0.8</td>\n",
              "      <td>0.2</td>\n",
              "      <td>0.9</td>\n",
              "      <td>0.6</td>\n",
              "      <td>0.0</td>\n",
              "      <td>0.1</td>\n",
              "      <td>0.1</td>\n",
              "      <td>0.2</td>\n",
              "      <td>0.2</td>\n",
              "      <td>0.3</td>\n",
              "      <td>0.2</td>\n",
              "      <td>0.2</td>\n",
              "      <td>0.2</td>\n",
              "      <td>0.2</td>\n",
              "      <td>0.2</td>\n",
              "      <td>0.2</td>\n",
              "      <td>-0.0</td>\n",
              "      <td>-0.0</td>\n",
              "      <td>-0.0</td>\n",
              "      <td>-0.0</td>\n",
              "      <td>-0.0</td>\n",
              "      <td>-0.1</td>\n",
              "    </tr>\n",
              "    <tr>\n",
              "      <th>max</th>\n",
              "      <td>4.9</td>\n",
              "      <td>0.8</td>\n",
              "      <td>5.2</td>\n",
              "      <td>2.8</td>\n",
              "      <td>4.1</td>\n",
              "      <td>7.1</td>\n",
              "      <td>5.9</td>\n",
              "      <td>6.0</td>\n",
              "      <td>6.1</td>\n",
              "      <td>6.4</td>\n",
              "      <td>6.3</td>\n",
              "      <td>8.2</td>\n",
              "      <td>8.8</td>\n",
              "      <td>9.4</td>\n",
              "      <td>10.3</td>\n",
              "      <td>12.9</td>\n",
              "      <td>7.8</td>\n",
              "      <td>23.6</td>\n",
              "      <td>14.4</td>\n",
              "      <td>20.4</td>\n",
              "      <td>33.2</td>\n",
              "      <td>19.9</td>\n",
              "      <td>24.6</td>\n",
              "    </tr>\n",
              "  </tbody>\n",
              "</table>\n",
              "</div>"
            ],
            "text/plain": [
              "       LIMIT_BAL    SEX  EDUCATION  ...  PAY_AMT4  PAY_AMT5  PAY_AMT6\n",
              "count     6000.0 6000.0     6000.0  ...    6000.0    6000.0    6000.0\n",
              "mean         0.0    0.0       -0.0  ...       0.0      -0.0       0.0\n",
              "std          1.0    1.0        1.0  ...       1.0       0.9       1.0\n",
              "min         -1.2   -1.2       -2.3  ...      -0.3      -0.3      -0.3\n",
              "25%         -0.8   -1.2       -1.1  ...      -0.3      -0.3      -0.3\n",
              "50%         -0.2    0.8        0.2  ...      -0.2      -0.2      -0.2\n",
              "75%          0.6    0.8        0.2  ...      -0.0      -0.0      -0.1\n",
              "max          4.9    0.8        5.2  ...      33.2      19.9      24.6\n",
              "\n",
              "[8 rows x 23 columns]"
            ]
          },
          "metadata": {
            "tags": []
          }
        },
        {
          "output_type": "stream",
          "text": [
            "Training targets summary:\n"
          ],
          "name": "stdout"
        },
        {
          "output_type": "display_data",
          "data": {
            "text/plain": [
              "count   24000.0\n",
              "mean        0.2\n",
              "std         0.4\n",
              "min         0.0\n",
              "25%         0.0\n",
              "50%         0.0\n",
              "75%         0.0\n",
              "max         1.0\n",
              "Name: default payment next month, dtype: float64"
            ]
          },
          "metadata": {
            "tags": []
          }
        },
        {
          "output_type": "stream",
          "text": [
            "Validation targets summary:\n"
          ],
          "name": "stdout"
        },
        {
          "output_type": "display_data",
          "data": {
            "text/plain": [
              "count   6000.0\n",
              "mean       0.2\n",
              "std        0.4\n",
              "min        0.0\n",
              "25%        0.0\n",
              "50%        0.0\n",
              "75%        0.0\n",
              "max        1.0\n",
              "Name: default payment next month, dtype: float64"
            ]
          },
          "metadata": {
            "tags": []
          }
        }
      ]
    },
    {
      "cell_type": "code",
      "metadata": {
        "id": "4RBHYx5ZCd-c",
        "colab_type": "code",
        "outputId": "d7ffb410-733a-4091-b74e-6982495d9dc2",
        "colab": {
          "base_uri": "https://localhost:8080/",
          "height": 35
        }
      },
      "source": [
        "training_examples.shape\n",
        "\n",
        "#training_targets.shape"
      ],
      "execution_count": 8,
      "outputs": [
        {
          "output_type": "execute_result",
          "data": {
            "text/plain": [
              "(24000, 23)"
            ]
          },
          "metadata": {
            "tags": []
          },
          "execution_count": 8
        }
      ]
    },
    {
      "cell_type": "markdown",
      "metadata": {
        "id": "fwhDBDmkC6KY",
        "colab_type": "text"
      },
      "source": [
        "Build Model"
      ]
    },
    {
      "cell_type": "code",
      "metadata": {
        "id": "0JSYqO9PC63u",
        "colab_type": "code",
        "outputId": "619b955f-7bb3-4b63-959f-00e2016cfc8d",
        "colab": {
          "base_uri": "https://localhost:8080/",
          "height": 272
        }
      },
      "source": [
        "baseline_model = keras.Sequential([\n",
        "    keras.layers.Dense(500, activation=tf.nn.relu,\n",
        "                       input_shape=(training_examples.shape[1],)),\n",
        "    keras.layers.Dense(300, activation=tf.nn.relu,),\n",
        "    keras.layers.Dense(1,activation=tf.nn.sigmoid,)\n",
        "\n",
        "  ])\n",
        "\n",
        "baseline_model.compile(loss='binary_crossentropy',\n",
        "                optimizer=\"rmsprop\",\n",
        "                metrics=['accuracy'])\n",
        "baseline_model.summary()\n"
      ],
      "execution_count": 9,
      "outputs": [
        {
          "output_type": "stream",
          "text": [
            "Model: \"sequential\"\n",
            "_________________________________________________________________\n",
            "Layer (type)                 Output Shape              Param #   \n",
            "=================================================================\n",
            "dense (Dense)                (None, 500)               12000     \n",
            "_________________________________________________________________\n",
            "dense_1 (Dense)              (None, 300)               150300    \n",
            "_________________________________________________________________\n",
            "dense_2 (Dense)              (None, 1)                 301       \n",
            "=================================================================\n",
            "Total params: 162,601\n",
            "Trainable params: 162,601\n",
            "Non-trainable params: 0\n",
            "_________________________________________________________________\n"
          ],
          "name": "stdout"
        }
      ]
    },
    {
      "cell_type": "markdown",
      "metadata": {
        "id": "H2MFDgaYaBEU",
        "colab_type": "text"
      },
      "source": [
        "Fit Model"
      ]
    },
    {
      "cell_type": "code",
      "metadata": {
        "id": "fJBr8IUmaCK8",
        "colab_type": "code",
        "colab": {}
      },
      "source": [
        "\n",
        "class PrintDot(keras.callbacks.Callback):\n",
        "  def on_epoch_end(self, epoch, logs):\n",
        "    if epoch % 100 == 0: print('')\n",
        "    print('.', end='')\n",
        "\n",
        "EPOCHS = 500\n",
        "callback = tf.keras.callbacks.EarlyStopping(monitor='val_loss', patience=10)\n",
        "b_history = baseline_model.fit(training_examples, training_targets, epochs=EPOCHS,\n",
        "                    validation_data= (validation_examples, validation_targets), verbose=0,\n",
        "                    callbacks=[callback])\n",
        "\n"
      ],
      "execution_count": 0,
      "outputs": []
    },
    {
      "cell_type": "code",
      "metadata": {
        "id": "k6fXuhLXb5UN",
        "colab_type": "code",
        "outputId": "9b6b3561-ed90-4840-c069-15a1719cfc27",
        "colab": {
          "base_uri": "https://localhost:8080/",
          "height": 35
        }
      },
      "source": [
        "print(min(b_history.history['accuracy']))"
      ],
      "execution_count": 12,
      "outputs": [
        {
          "output_type": "stream",
          "text": [
            "0.81329167\n"
          ],
          "name": "stdout"
        }
      ]
    },
    {
      "cell_type": "markdown",
      "metadata": {
        "id": "9XfqSuYJcJcq",
        "colab_type": "text"
      },
      "source": [
        "Plot Results"
      ]
    },
    {
      "cell_type": "code",
      "metadata": {
        "id": "vTstRKW1b_52",
        "colab_type": "code",
        "outputId": "d2ce2e84-3f8a-464d-eb28-ec379b8796b5",
        "colab": {
          "base_uri": "https://localhost:8080/",
          "height": 630
        }
      },
      "source": [
        "import matplotlib.pyplot as plt\n",
        "\n",
        "\n",
        "def plot_history(histories, key='accuracy'):\n",
        "  plt.figure(figsize=(16,10))\n",
        "  for name, history in histories:\n",
        "    val = plt.plot(history.epoch, history.history['val_'+key],\n",
        "                   '--', label=name.title()+' Val')\n",
        "    plt.plot(history.epoch, history.history[key], color=val[0].get_color(),\n",
        "             label=name.title()+' Train')\n",
        "\n",
        "  plt.xlabel('Epochs')\n",
        "  plt.ylabel(key.replace('_',' ').title())\n",
        "  plt.legend()\n",
        "\n",
        "  plt.xlim([0,max(history.epoch)])\n",
        "  plt.ylim([0,1])\n",
        "\n",
        "plot_history([('baseline', b_history)])"
      ],
      "execution_count": 13,
      "outputs": [
        {
          "output_type": "display_data",
          "data": {
            "image/png": "[encoded data removed]",
            "text/plain": [
              "<Figure size 1152x720 with 1 Axes>"
            ]
          },
          "metadata": {
            "tags": []
          }
        }
      ]
    },
    {
      "cell_type": "markdown",
      "metadata": {
        "id": "2UxoTBwKkDu6",
        "colab_type": "text"
      },
      "source": [
        "Predictions"
      ]
    },
    {
      "cell_type": "code",
      "metadata": {
        "id": "xyulk4hhkFE5",
        "colab_type": "code",
        "outputId": "78097be5-866e-441a-850d-c5bc2e5fa395",
        "colab": {
          "base_uri": "https://localhost:8080/",
          "height": 163
        }
      },
      "source": [
        "valpreds = baseline_model.predict_on_batch(validation_examples)\n",
        "print(valpreds)"
      ],
      "execution_count": 14,
      "outputs": [
        {
          "output_type": "stream",
          "text": [
            "tf.Tensor(\n",
            "[[0.21339622]\n",
            " [0.07325274]\n",
            " [0.12732482]\n",
            " ...\n",
            " [0.01270369]\n",
            " [0.16094176]\n",
            " [0.1947252 ]], shape=(6000, 1), dtype=float32)\n"
          ],
          "name": "stdout"
        }
      ]
    },
    {
      "cell_type": "code",
      "metadata": {
        "id": "vyoSqf5IkH1I",
        "colab_type": "code",
        "colab": {}
      },
      "source": [
        "with pd.option_context('display.max_rows', None, 'display.max_columns', None):\n",
        "    print(validation_targets)"
      ],
      "execution_count": 0,
      "outputs": []
    },
    {
      "cell_type": "code",
      "metadata": {
        "id": "g1nS1QVekLTh",
        "colab_type": "code",
        "outputId": "845ca28d-da3b-462b-c07c-e95e8f63098a",
        "colab": {
          "base_uri": "https://localhost:8080/",
          "height": 283
        }
      },
      "source": [
        "# Plot Weights\n",
        "nfw = baseline_model.get_weights()[0][0]\n",
        "y_pos = np.arange(len(nfw))\n",
        " \n",
        "plt.bar(y_pos, nfw, align='center', alpha=0.5)"
      ],
      "execution_count": 0,
      "outputs": [
        {
          "output_type": "execute_result",
          "data": {
            "text/plain": [
              "<BarContainer object of 500 artists>"
            ]
          },
          "metadata": {
            "tags": []
          },
          "execution_count": 15
        },
        {
          "output_type": "display_data",
          "data": {
            "image/png": "[encoded data removed]",
            "text/plain": [
              "<Figure size 432x288 with 1 Axes>"
            ]
          },
          "metadata": {
            "tags": []
          }
        }
      ]
    },
    {
      "cell_type": "markdown",
      "metadata": {
        "id": "j3KSfFzwFfmX",
        "colab_type": "text"
      },
      "source": [
        "PART 2:\tCompare at least one of the models from above with respect to the following hyper-parameters."
      ]
    },
    {
      "cell_type": "markdown",
      "metadata": {
        "id": "khGPi0PTFl3A",
        "colab_type": "text"
      },
      "source": [
        "a.\t1 Hidden Layer vs 2 Hidden Layers"
      ]
    },
    {
      "cell_type": "code",
      "metadata": {
        "id": "LKfAWs7SFw7a",
        "colab_type": "code",
        "outputId": "8ab3e824-c22f-4d5f-89d3-74f8a8b4a657",
        "colab": {
          "base_uri": "https://localhost:8080/",
          "height": 563
        }
      },
      "source": [
        "# Build Model 1 with 1 hidden layer\n",
        "baseline_model1 = keras.Sequential([\n",
        "    keras.layers.Dense(500, activation=tf.nn.relu,\n",
        "                       input_shape=(training_examples.shape[1],)),\n",
        "    keras.layers.Dense(300, activation=tf.nn.relu,),\n",
        "    keras.layers.Dense(1,activation=tf.nn.sigmoid,)\n",
        "\n",
        "  ])\n",
        "\n",
        "baseline_model1.compile(loss='binary_crossentropy',\n",
        "                optimizer=\"rmsprop\",\n",
        "                metrics=['accuracy'])\n",
        "baseline_model1.summary()\n",
        "\n",
        "# Build Model 2 with 2 hidden layer\n",
        "baseline_model2 = keras.Sequential([\n",
        "    keras.layers.Dense(500, activation=tf.nn.relu,\n",
        "                       input_shape=(training_examples.shape[1],)),\n",
        "    keras.layers.Dense(300, activation=tf.nn.relu,),\n",
        "    keras.layers.Dense(300, activation=tf.nn.relu,),\n",
        "    keras.layers.Dense(1,activation=tf.nn.sigmoid,)\n",
        "\n",
        "  ])\n",
        "\n",
        "baseline_model2.compile(loss='binary_crossentropy',\n",
        "                optimizer=\"rmsprop\",\n",
        "                metrics=['accuracy'])\n",
        "baseline_model2.summary()\n"
      ],
      "execution_count": 15,
      "outputs": [
        {
          "output_type": "stream",
          "text": [
            "Model: \"sequential_1\"\n",
            "_________________________________________________________________\n",
            "Layer (type)                 Output Shape              Param #   \n",
            "=================================================================\n",
            "dense_3 (Dense)              (None, 500)               12000     \n",
            "_________________________________________________________________\n",
            "dense_4 (Dense)              (None, 300)               150300    \n",
            "_________________________________________________________________\n",
            "dense_5 (Dense)              (None, 1)                 301       \n",
            "=================================================================\n",
            "Total params: 162,601\n",
            "Trainable params: 162,601\n",
            "Non-trainable params: 0\n",
            "_________________________________________________________________\n",
            "Model: \"sequential_2\"\n",
            "_________________________________________________________________\n",
            "Layer (type)                 Output Shape              Param #   \n",
            "=================================================================\n",
            "dense_6 (Dense)              (None, 500)               12000     \n",
            "_________________________________________________________________\n",
            "dense_7 (Dense)              (None, 300)               150300    \n",
            "_________________________________________________________________\n",
            "dense_8 (Dense)              (None, 300)               90300     \n",
            "_________________________________________________________________\n",
            "dense_9 (Dense)              (None, 1)                 301       \n",
            "=================================================================\n",
            "Total params: 252,901\n",
            "Trainable params: 252,901\n",
            "Non-trainable params: 0\n",
            "_________________________________________________________________\n"
          ],
          "name": "stdout"
        }
      ]
    },
    {
      "cell_type": "code",
      "metadata": {
        "colab_type": "code",
        "outputId": "784c999a-24c9-4a18-a44f-2e7a2f6a2ff7",
        "id": "_3FJKLZ30yK5",
        "colab": {
          "base_uri": "https://localhost:8080/",
          "height": 54
        }
      },
      "source": [
        "# Fit Model 1\n",
        "class PrintDot(keras.callbacks.Callback):\n",
        "  def on_epoch_end(self, epoch, logs):\n",
        "    if epoch % 100 == 0: print('')\n",
        "    print('.', end='')\n",
        "\n",
        "EPOCHS = 500\n",
        "callback = tf.keras.callbacks.EarlyStopping(monitor='val_loss', patience=10)\n",
        "b_history1 = baseline_model1.fit(training_examples, training_targets, epochs=EPOCHS,\n",
        "                    validation_data= (validation_examples, validation_targets), verbose=0,\n",
        "                    callbacks=[callback])\n",
        "\n",
        "# Fit Model 2\n",
        "class PrintDot(keras.callbacks.Callback):\n",
        "  def on_epoch_end(self, epoch, logs):\n",
        "    if epoch % 100 == 0: print('')\n",
        "    print('.', end='')\n",
        "\n",
        "EPOCHS = 500\n",
        "callback = tf.keras.callbacks.EarlyStopping(monitor='val_loss', patience=10)\n",
        "b_history2 = baseline_model2.fit(training_examples, training_targets, epochs=EPOCHS,\n",
        "                    validation_data= (validation_examples, validation_targets), verbose=0,\n",
        "                    callbacks=[callback])\n",
        "\n",
        "print(max(b_history1.history['accuracy']))\n",
        "print(max(b_history2.history['accuracy']))\n"
      ],
      "execution_count": 16,
      "outputs": [
        {
          "output_type": "stream",
          "text": [
            "0.828375\n",
            "0.82795835\n"
          ],
          "name": "stdout"
        }
      ]
    },
    {
      "cell_type": "code",
      "metadata": {
        "id": "FB65JOHWBaJA",
        "colab_type": "code",
        "colab": {
          "base_uri": "https://localhost:8080/",
          "height": 1000
        },
        "outputId": "a12e5c7a-2c15-4d16-fdd1-cc81f4f31f59"
      },
      "source": [
        "#Plot results for model 1 and model 2\n",
        "\n",
        "import matplotlib.pyplot as plt\n",
        "\n",
        "#Plot model 1\n",
        "def plot_history(histories, key='accuracy'):\n",
        "  plt.figure(figsize=(16,10))\n",
        "  for name, history in histories:\n",
        "    val = plt.plot(history.epoch, history.history['val_'+key],\n",
        "                   '--', label=name.title()+' Val')\n",
        "    plt.plot(history.epoch, history.history[key], color=val[0].get_color(),\n",
        "             label=name.title()+' Train')\n",
        "\n",
        "  plt.xlabel('Epochs')\n",
        "  plt.ylabel(key.replace('_',' ').title())\n",
        "  plt.legend()\n",
        "\n",
        "  plt.xlim([0,max(history.epoch)])\n",
        "  plt.ylim([0,1])\n",
        "\n",
        "plot_history([('baseline', b_history1)])\n",
        "\n",
        "# Plot model 2\n",
        "def plot_history(histories, key='accuracy'):\n",
        "  plt.figure(figsize=(16,10))\n",
        "  for name, history in histories:\n",
        "    val = plt.plot(history.epoch, history.history['val_'+key],\n",
        "                   '--', label=name.title()+' Val')\n",
        "    plt.plot(history.epoch, history.history[key], color=val[0].get_color(),\n",
        "             label=name.title()+' Train')\n",
        "\n",
        "  plt.xlabel('Epochs')\n",
        "  plt.ylabel(key.replace('_',' ').title())\n",
        "  plt.legend()\n",
        "\n",
        "  plt.xlim([0,max(history.epoch)])\n",
        "  plt.ylim([0,1])\n",
        "\n",
        "plot_history([('baseline', b_history2)])"
      ],
      "execution_count": 23,
      "outputs": [
        {
          "output_type": "display_data",
          "data": {
            "image/png": "[encoded data removed]",
            "text/plain": [
              "<Figure size 1152x720 with 1 Axes>"
            ]
          },
          "metadata": {
            "tags": []
          }
        },
        {
          "output_type": "display_data",
          "data": {
            "image/png": "[encoded data removed]",
            "text/plain": [
              "<Figure size 1152x720 with 1 Axes>"
            ]
          },
          "metadata": {
            "tags": []
          }
        }
      ]
    },
    {
      "cell_type": "markdown",
      "metadata": {
        "id": "eMIJqBgabaBT",
        "colab_type": "text"
      },
      "source": [
        "Comparing results:\n",
        "Accuracy for both the models (with 1 hidden layer and with 2 hidden layers) is almost similar.\n",
        "\n",
        "In general, addition of hidden layers helps improve the model, but only up to a certain point, and further addition of layers can actually harm the model's performance.\n",
        "Adding more neurons (making the network \"wider\") or layers (making it \"deeper\") would be improving accuracy, but at some point the accuracy would start dropping, as the model would start overfitting to training set. \n",
        "When you unnecessarily increase hidden layers, your model ends up learning more no.of parameters than are needed to solve your problem. Since this is a simple model addidng 1 layer did not affect the accuracy much."
      ]
    },
    {
      "cell_type": "markdown",
      "metadata": {
        "id": "7ElWs4CMGHFv",
        "colab_type": "text"
      },
      "source": [
        "b.\tNo of neurons in hidden layers between (a)2/3 the size of the input layer, plus the size of the output layer, and (b) twice the size of the input layer"
      ]
    },
    {
      "cell_type": "code",
      "metadata": {
        "id": "18ir444wkn3Z",
        "colab_type": "code",
        "outputId": "4c3ed547-83d3-47a3-a67a-82f90446be42",
        "colab": {
          "base_uri": "https://localhost:8080/",
          "height": 526
        }
      },
      "source": [
        "# (a)2/3 the size of the input layer, plus the size of the output layer\n",
        "\n",
        "# Build model 3\n",
        "baseline_model3 = keras.Sequential([\n",
        "    keras.layers.Dense(500, activation=tf.nn.relu,\n",
        "                       input_shape=(training_examples.shape[1],)),\n",
        "    keras.layers.Dense(334, activation=tf.nn.relu,),\n",
        "    keras.layers.Dense(1,activation=tf.nn.sigmoid,)\n",
        "\n",
        "  ])\n",
        "\n",
        "baseline_model3.compile(loss='binary_crossentropy',\n",
        "                optimizer=\"rmsprop\",\n",
        "                metrics=['accuracy'])\n",
        "baseline_model3.summary()\n",
        "\n",
        "\n",
        "# twice the size of the input layer\n",
        "\n",
        "# Build model 4\n",
        "baseline_model4 = keras.Sequential([\n",
        "    keras.layers.Dense(500, activation=tf.nn.relu,\n",
        "                       input_shape=(training_examples.shape[1],)),\n",
        "    keras.layers.Dense(1000, activation=tf.nn.relu,),\n",
        "    keras.layers.Dense(1,activation=tf.nn.sigmoid,)\n",
        "\n",
        "  ])\n",
        "\n",
        "baseline_model4.compile(loss='binary_crossentropy',\n",
        "                optimizer=\"rmsprop\",\n",
        "                metrics=['accuracy'])\n",
        "baseline_model4.summary()"
      ],
      "execution_count": 19,
      "outputs": [
        {
          "output_type": "stream",
          "text": [
            "Model: \"sequential_3\"\n",
            "_________________________________________________________________\n",
            "Layer (type)                 Output Shape              Param #   \n",
            "=================================================================\n",
            "dense_10 (Dense)             (None, 500)               12000     \n",
            "_________________________________________________________________\n",
            "dense_11 (Dense)             (None, 334)               167334    \n",
            "_________________________________________________________________\n",
            "dense_12 (Dense)             (None, 1)                 335       \n",
            "=================================================================\n",
            "Total params: 179,669\n",
            "Trainable params: 179,669\n",
            "Non-trainable params: 0\n",
            "_________________________________________________________________\n",
            "Model: \"sequential_4\"\n",
            "_________________________________________________________________\n",
            "Layer (type)                 Output Shape              Param #   \n",
            "=================================================================\n",
            "dense_13 (Dense)             (None, 500)               12000     \n",
            "_________________________________________________________________\n",
            "dense_14 (Dense)             (None, 1000)              501000    \n",
            "_________________________________________________________________\n",
            "dense_15 (Dense)             (None, 1)                 1001      \n",
            "=================================================================\n",
            "Total params: 514,001\n",
            "Trainable params: 514,001\n",
            "Non-trainable params: 0\n",
            "_________________________________________________________________\n"
          ],
          "name": "stdout"
        }
      ]
    },
    {
      "cell_type": "code",
      "metadata": {
        "id": "OAh8Q6UUOuBr",
        "colab_type": "code",
        "outputId": "6c989890-1c89-4688-ade9-901640239322",
        "colab": {
          "base_uri": "https://localhost:8080/",
          "height": 54
        }
      },
      "source": [
        "# Fit Model 3\n",
        "class PrintDot(keras.callbacks.Callback):\n",
        "  def on_epoch_end(self, epoch, logs):\n",
        "    if epoch % 100 == 0: print('')\n",
        "    print('.', end='')\n",
        "\n",
        "EPOCHS = 500\n",
        "callback = tf.keras.callbacks.EarlyStopping(monitor='val_loss', patience=10)\n",
        "b_history3 = baseline_model1.fit(training_examples, training_targets, epochs=EPOCHS,\n",
        "                    validation_data= (validation_examples, validation_targets), verbose=0,\n",
        "                    callbacks=[callback])\n",
        "\n",
        "# Fit Model 4\n",
        "class PrintDot(keras.callbacks.Callback):\n",
        "  def on_epoch_end(self, epoch, logs):\n",
        "    if epoch % 100 == 0: print('')\n",
        "    print('.', end='')\n",
        "\n",
        "EPOCHS = 500\n",
        "callback = tf.keras.callbacks.EarlyStopping(monitor='val_loss', patience=10)\n",
        "b_history4 = baseline_model4.fit(training_examples, training_targets, epochs=EPOCHS,\n",
        "                    validation_data= (validation_examples, validation_targets), verbose=0,\n",
        "                    callbacks=[callback])\n",
        "\n",
        "print(min(b_history3.history['accuracy']))\n",
        "print(min(b_history4.history['accuracy']))\n"
      ],
      "execution_count": 20,
      "outputs": [
        {
          "output_type": "stream",
          "text": [
            "0.828\n",
            "0.8144583\n"
          ],
          "name": "stdout"
        }
      ]
    },
    {
      "cell_type": "code",
      "metadata": {
        "id": "SP3QlCVo76LG",
        "colab_type": "code",
        "colab": {
          "base_uri": "https://localhost:8080/",
          "height": 1000
        },
        "outputId": "9b5d8228-7063-4576-d9ba-28fe240b8c21"
      },
      "source": [
        "#Plot results for model 3 and model 4\n",
        "\n",
        "import matplotlib.pyplot as plt\n",
        "\n",
        "#Plot model 3\n",
        "def plot_history(histories, key='accuracy'):\n",
        "  plt.figure(figsize=(16,10))\n",
        "  for name, history in histories:\n",
        "    val = plt.plot(history.epoch, history.history['val_'+key],\n",
        "                   '--', label=name.title()+' Val')\n",
        "    plt.plot(history.epoch, history.history[key], color=val[0].get_color(),\n",
        "             label=name.title()+' Train')\n",
        "\n",
        "  plt.xlabel('Epochs')\n",
        "  plt.ylabel(key.replace('_',' ').title())\n",
        "  plt.legend()\n",
        "\n",
        "  plt.xlim([0,max(history.epoch)])\n",
        "  plt.ylim([0,1])\n",
        "\n",
        "plot_history([('baseline', b_history3)])\n",
        "\n",
        "# Plot model 4\n",
        "def plot_history(histories, key='accuracy'):\n",
        "  plt.figure(figsize=(16,10))\n",
        "  for name, history in histories:\n",
        "    val = plt.plot(history.epoch, history.history['val_'+key],\n",
        "                   '--', label=name.title()+' Val')\n",
        "    plt.plot(history.epoch, history.history[key], color=val[0].get_color(),\n",
        "             label=name.title()+' Train')\n",
        "\n",
        "  plt.xlabel('Epochs')\n",
        "  plt.ylabel(key.replace('_',' ').title())\n",
        "  plt.legend()\n",
        "\n",
        "  plt.xlim([0,max(history.epoch)])\n",
        "  plt.ylim([0,1])\n",
        "\n",
        "plot_history([('baseline', b_history4)])"
      ],
      "execution_count": 22,
      "outputs": [
        {
          "output_type": "display_data",
          "data": {
            "image/png": "[encoded data removed]",
            "text/plain": [
              "<Figure size 1152x720 with 1 Axes>"
            ]
          },
          "metadata": {
            "tags": []
          }
        },
        {
          "output_type": "display_data",
          "data": {
            "image/png": "[encoded data removed]",
            "text/plain": [
              "<Figure size 1152x720 with 1 Axes>"
            ]
          },
          "metadata": {
            "tags": []
          }
        }
      ]
    },
    {
      "cell_type": "markdown",
      "metadata": {
        "id": "rfGxPzhg-nmH",
        "colab_type": "text"
      },
      "source": [
        "Accuracy for model with 2/3 the size of the input layer, plus the size of the output layer is better than twice the size of the input layer. This is because as capacity increases the gap between training and testing error (generalization gap) also increases. If the capacity is high, model is likely to overfit the data."
      ]
    },
    {
      "cell_type": "markdown",
      "metadata": {
        "id": "sWfz5VmAkO76",
        "colab_type": "text"
      },
      "source": [
        "c. Regularized Models"
      ]
    },
    {
      "cell_type": "code",
      "metadata": {
        "id": "C1j3rQm0kRHN",
        "colab_type": "code",
        "colab": {}
      },
      "source": [
        "l1_model = keras.Sequential([\n",
        "    keras.layers.Dense(500, kernel_regularizer=keras.regularizers.l1(0.1), activation=tf.nn.relu,\n",
        "                       input_shape=(training_examples.shape[1],)),\n",
        "    keras.layers.Dense(500, use_bias=True, kernel_regularizer=keras.regularizers.l1(0.01), activation=tf.nn.relu),\n",
        "    keras.layers.Dense(500, use_bias=True, kernel_regularizer=keras.regularizers.l1(0.01), activation=tf.nn.relu),\n",
        "    keras.layers.Dense(500, use_bias=True, kernel_regularizer=keras.regularizers.l1(0.01), activation=tf.nn.relu),\n",
        "    keras.layers.Dense(1, activation=tf.nn.sigmoid)\n",
        "  ])\n",
        "\n",
        "l1_model.compile(loss='binary_crossentropy',\n",
        "                optimizer=\"rmsprop\",\n",
        "                metrics=['accuracy'])\n",
        "\n",
        "l2_model = keras.Sequential([\n",
        "    keras.layers.Dense(100, kernel_regularizer=keras.regularizers.l2(0.1), activation=tf.nn.relu,\n",
        "                       input_shape=(training_examples.shape[1],)),\n",
        "    keras.layers.Dropout(0.25),\n",
        "    keras.layers.Dense(100, kernel_regularizer=keras.regularizers.l2(0.1), activation=tf.nn.relu),\n",
        "    keras.layers.Dropout(0.25),\n",
        "    keras.layers.Dense(100, kernel_regularizer=keras.regularizers.l2(0.1), activation=tf.nn.relu),\n",
        "    keras.layers.Dropout(0.25),\n",
        "    keras.layers.Dense(100, kernel_regularizer=keras.regularizers.l2(0.1), activation=tf.nn.relu),\n",
        "    keras.layers.Dense(1, activation=tf.nn.sigmoid)\n",
        "  ])\n",
        "\n",
        "l2_model.compile(loss='binary_crossentropy',\n",
        "                optimizer=\"rmsprop\",\n",
        "                metrics=['accuracy'])\n"
      ],
      "execution_count": 0,
      "outputs": []
    },
    {
      "cell_type": "code",
      "metadata": {
        "id": "gU2Y_qLh7y4E",
        "colab_type": "code",
        "colab": {}
      },
      "source": [
        ""
      ],
      "execution_count": 0,
      "outputs": []
    },
    {
      "cell_type": "code",
      "metadata": {
        "id": "cXNHV8QNkTMu",
        "colab_type": "code",
        "colab": {}
      },
      "source": [
        "l1_callback = tf.keras.callbacks.EarlyStopping(monitor='val_loss', patience=10)\n",
        "l1_history = l1_model.fit(training_examples, training_targets, epochs=EPOCHS,\n",
        "                    validation_data= (validation_examples, validation_targets), verbose=0,\n",
        "                    callbacks=[l1_callback])\n",
        "\n",
        "\n",
        "l2_callback = tf.keras.callbacks.EarlyStopping(monitor='val_loss', patience=10)\n",
        "l2_history = l2_model.fit(training_examples, training_targets, epochs=EPOCHS,\n",
        "                    validation_data= (validation_examples, validation_targets), verbose=0,\n",
        "                    callbacks=[l2_callback])"
      ],
      "execution_count": 0,
      "outputs": []
    },
    {
      "cell_type": "code",
      "metadata": {
        "id": "x9BvOQB0kVIS",
        "colab_type": "code",
        "outputId": "c43176f7-3249-423d-ade8-802b0bcd7a44",
        "colab": {
          "base_uri": "https://localhost:8080/",
          "height": 610
        }
      },
      "source": [
        "# Plot history Multiple\n",
        "plot_history([('baseline', b_history),\n",
        "              ('L1', l1_history),\n",
        "              ('L2', l2_history)])"
      ],
      "execution_count": 0,
      "outputs": [
        {
          "output_type": "display_data",
          "data": {
            "image/png": "[encoded data removed]",
            "text/plain": [
              "<Figure size 1152x720 with 1 Axes>"
            ]
          },
          "metadata": {
            "tags": []
          }
        }
      ]
    },
    {
      "cell_type": "markdown",
      "metadata": {
        "id": "PRYDLMuN3zyl",
        "colab_type": "text"
      },
      "source": [
        "d.\tActivation function - ReLU and your choice"
      ]
    },
    {
      "cell_type": "code",
      "metadata": {
        "id": "t3To4RfTPVnT",
        "colab_type": "code",
        "colab": {
          "base_uri": "https://localhost:8080/",
          "height": 272
        },
        "outputId": "36b9204c-2256-404a-c4e3-cdc8777bfa89"
      },
      "source": [
        "# Build Model\n",
        "baseline_model5 = keras.Sequential([\n",
        "    keras.layers.Dense(500, activation=tf.nn.relu,\n",
        "                       input_shape=(training_examples.shape[1],)),\n",
        "    keras.layers.Dense(4, activation=tf.nn.softmax,),\n",
        "    keras.layers.Dense(1,activation=tf.nn.sigmoid,)\n",
        "\n",
        "  ])\n",
        "\n",
        "baseline_model5.compile(loss='binary_crossentropy',\n",
        "                optimizer=\"rmsprop\",\n",
        "                metrics=['accuracy'])\n",
        "baseline_model5.summary()"
      ],
      "execution_count": 24,
      "outputs": [
        {
          "output_type": "stream",
          "text": [
            "Model: \"sequential_5\"\n",
            "_________________________________________________________________\n",
            "Layer (type)                 Output Shape              Param #   \n",
            "=================================================================\n",
            "dense_16 (Dense)             (None, 500)               12000     \n",
            "_________________________________________________________________\n",
            "dense_17 (Dense)             (None, 4)                 2004      \n",
            "_________________________________________________________________\n",
            "dense_18 (Dense)             (None, 1)                 5         \n",
            "=================================================================\n",
            "Total params: 14,009\n",
            "Trainable params: 14,009\n",
            "Non-trainable params: 0\n",
            "_________________________________________________________________\n"
          ],
          "name": "stdout"
        }
      ]
    },
    {
      "cell_type": "code",
      "metadata": {
        "id": "fZHhb4p_BoEd",
        "colab_type": "code",
        "colab": {}
      },
      "source": [
        "# Fit Model\n",
        "class PrintDot(keras.callbacks.Callback):\n",
        "  def on_epoch_end(self, epoch, logs):\n",
        "    if epoch % 100 == 0: print('')\n",
        "    print('.', end='')\n",
        "\n",
        "EPOCHS = 500\n",
        "callback = tf.keras.callbacks.EarlyStopping(monitor='val_loss', patience=10)\n",
        "b_history5 = baseline_model5.fit(training_examples, training_targets, epochs=EPOCHS,\n",
        "                    validation_data= (validation_examples, validation_targets), verbose=0,\n",
        "                    callbacks=[callback])"
      ],
      "execution_count": 0,
      "outputs": []
    },
    {
      "cell_type": "code",
      "metadata": {
        "id": "2ZQMUuCgBqoU",
        "colab_type": "code",
        "colab": {
          "base_uri": "https://localhost:8080/",
          "height": 35
        },
        "outputId": "5233065d-4ea3-4818-95f7-9b1231f69845"
      },
      "source": [
        "print(min(b_history.history['accuracy']))"
      ],
      "execution_count": 26,
      "outputs": [
        {
          "output_type": "stream",
          "text": [
            "0.81329167\n"
          ],
          "name": "stdout"
        }
      ]
    },
    {
      "cell_type": "code",
      "metadata": {
        "id": "II7ftgzkB9_H",
        "colab_type": "code",
        "colab": {
          "base_uri": "https://localhost:8080/",
          "height": 630
        },
        "outputId": "c83c2072-5ac0-4f43-e181-a31da8c9ba55"
      },
      "source": [
        "import matplotlib.pyplot as plt\n",
        "\n",
        "#Plot model 5\n",
        "def plot_history(histories, key='accuracy'):\n",
        "  plt.figure(figsize=(16,10))\n",
        "  for name, history in histories:\n",
        "    val = plt.plot(history.epoch, history.history['val_'+key],\n",
        "                   '--', label=name.title()+' Val')\n",
        "    plt.plot(history.epoch, history.history[key], color=val[0].get_color(),\n",
        "             label=name.title()+' Train')\n",
        "\n",
        "  plt.xlabel('Epochs')\n",
        "  plt.ylabel(key.replace('_',' ').title())\n",
        "  plt.legend()\n",
        "\n",
        "  plt.xlim([0,max(history.epoch)])\n",
        "  plt.ylim([0,1])\n",
        "\n",
        "plot_history([('baseline', b_history5)])"
      ],
      "execution_count": 27,
      "outputs": [
        {
          "output_type": "display_data",
          "data": {
            "image/png": "[encoded data removed]",
            "text/plain": [
              "<Figure size 1152x720 with 1 Axes>"
            ]
          },
          "metadata": {
            "tags": []
          }
        }
      ]
    },
    {
      "cell_type": "markdown",
      "metadata": {
        "id": "lGQNdxdFCOxw",
        "colab_type": "text"
      },
      "source": [
        "Here, Softmax activation function is used in the hidden layer along with RElu in the input and Sigmoid in the output layers. There is not much difference in accuracy as compared the above models using Relu in the hidden layers. The output of the softmax function is equivalent to a categorical probability distribution, it tells you the probability that any of the classes are true."
      ]
    }
  ]
}
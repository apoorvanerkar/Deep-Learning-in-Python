{
 "cells": [
  {
   "cell_type": "markdown",
   "metadata": {
    "colab_type": "text",
    "id": "6kkdGwogwUcT"
   },
   "source": [
    "Online Payment Use"
   ]
  },
  {
   "cell_type": "markdown",
   "metadata": {
    "colab_type": "text",
    "id": "88pnQO4_BB_V"
   },
   "source": [
    "Import Libraries"
   ]
  },
  {
   "cell_type": "code",
   "execution_count": 0,
   "metadata": {
    "colab": {
     "base_uri": "https://localhost:8080/",
     "height": 54
    },
    "colab_type": "code",
    "id": "Utq9qFEJ76Tu",
    "outputId": "d230b424-783c-425b-e4a5-241346e8a557"
   },
   "outputs": [
    {
     "name": "stdout",
     "output_type": "stream",
     "text": [
      "TensorFlow 2.x selected.\n",
      "2.1.0\n"
     ]
    }
   ],
   "source": [
    "%tensorflow_version 2.x\n",
    "from numpy.random import seed\n",
    "seed(2)\n",
    "import tensorflow as tf\n",
    "from tensorflow import keras\n",
    "from IPython import display\n",
    "from matplotlib import cm\n",
    "from matplotlib import gridspec\n",
    "from matplotlib import pyplot as plt\n",
    "import numpy as np\n",
    "import pandas as pd\n",
    "from tensorflow.python.data import Dataset\n",
    "from sklearn import preprocessing\n",
    "from sklearn.preprocessing import StandardScaler\n",
    "print(tf.__version__)"
   ]
  },
  {
   "cell_type": "markdown",
   "metadata": {
    "colab_type": "text",
    "id": "g1Inn-ptBRo2"
   },
   "source": [
    "Import Data"
   ]
  },
  {
   "cell_type": "code",
   "execution_count": 0,
   "metadata": {
    "colab": {
     "base_uri": "https://localhost:8080/",
     "height": 254
    },
    "colab_type": "code",
    "id": "2LTpYWX279Fo",
    "outputId": "ae55eeee-9e96-4424-e7c7-ae79b33ac34e"
   },
   "outputs": [
    {
     "name": "stdout",
     "output_type": "stream",
     "text": [
      "      ClinicID  OnlineAppointmentUse  malepct  ...  bcaaware  vendor  numpats\n",
      "6248      6254                   0.2      0.5  ...       0.6       0     7012\n",
      "4833      4839                   0.0      0.4  ...       0.3       0    13813\n",
      "369        375                   0.3      0.5  ...       0.6       0    13430\n",
      "3678      3684                   0.2      0.5  ...       0.5       0     3936\n",
      "1715      1721                   0.1      0.6  ...       0.2       0    10525\n",
      "6068      6074                   0.1      0.6  ...       0.5       0     8848\n",
      "6544      6550                   0.1      0.5  ...       0.3       3     5725\n",
      "6406      6412                   0.1      0.5  ...       0.4       0     2003\n",
      "3500      3506                   0.3      0.4  ...       0.6       0    13885\n",
      "1873      1879                   0.2      0.5  ...       0.5       0     6970\n",
      "\n",
      "[10 rows x 22 columns]\n"
     ]
    }
   ],
   "source": [
    "\n",
    "pd.options.display.max_rows = 10\n",
    "pd.options.display.float_format = '{:.1f}'.format\n",
    "\n",
    "onlineUse_dataframe = pd.read_excel(\"OnlineUse.xlsx\", sheet_name= 'OnlineUseData')\n",
    "#onlineUse_dataframe = pd.get_dummies(onlineUse_dataframe, ['vendor'])\n",
    "\n",
    "# Convert categorical variable to numeric values\n",
    "onlineUse_dataframe[\"vendor\"] = onlineUse_dataframe.vendor.astype(\"category\").cat.codes\n",
    "\n",
    "onlineUse_dataframe = onlineUse_dataframe.reindex(\n",
    "    np.random.permutation(onlineUse_dataframe.index))\n",
    "\n",
    "print(onlineUse_dataframe.head(10))"
   ]
  },
  {
   "cell_type": "code",
   "execution_count": 0,
   "metadata": {
    "colab": {
     "base_uri": "https://localhost:8080/",
     "height": 254
    },
    "colab_type": "code",
    "id": "lc9RKr8e2ITZ",
    "outputId": "41d593e8-8b8a-4fa0-880b-9c3f4325182e"
   },
   "outputs": [
    {
     "name": "stdout",
     "output_type": "stream",
     "text": [
      "      ClinicID  OnlineAppointmentUse  malepct  ...  bcaaware  vendor  numpats\n",
      "6248      6254                   0.2      0.5  ...       0.6       0     7012\n",
      "4833      4839                   0.0      0.4  ...       0.3       0    13813\n",
      "369        375                   0.3      0.5  ...       0.6       0    13430\n",
      "3678      3684                   0.2      0.5  ...       0.5       0     3936\n",
      "1715      1721                   0.1      0.6  ...       0.2       0    10525\n",
      "6068      6074                   0.1      0.6  ...       0.5       0     8848\n",
      "6544      6550                   0.1      0.5  ...       0.3       3     5725\n",
      "3500      3506                   0.3      0.4  ...       0.6       0    13885\n",
      "1873      1879                   0.2      0.5  ...       0.5       0     6970\n",
      "1511      1517                   0.3      0.5  ...       0.6       3     4532\n",
      "\n",
      "[10 rows x 22 columns]\n"
     ]
    }
   ],
   "source": [
    "# Remove -97 or -98 which indicates missing data\n",
    "\n",
    "onlineUse_dataframe = onlineUse_dataframe.loc[(onlineUse_dataframe['OnlineAppointmentUse'] != -97) & \n",
    "                                          (onlineUse_dataframe['OnlineAppointmentUse'] != -98) &\n",
    "                                          (onlineUse_dataframe['malepct'] != -97) &\n",
    "                                          (onlineUse_dataframe['malepct'] != -98) &\n",
    "                                          (onlineUse_dataframe['unemp'] != -97) &\n",
    "                                          (onlineUse_dataframe['unemp'] != -98)&\n",
    "                                          (onlineUse_dataframe['age16to24'] != -97) & \n",
    "                                          (onlineUse_dataframe['age16to24'] != -98) &\n",
    "                                          (onlineUse_dataframe['age25to34'] != -97) &\n",
    "                                          (onlineUse_dataframe['age25to34'] != -98) &\n",
    "                                          (onlineUse_dataframe['age35to44'] != -97) &\n",
    "                                          (onlineUse_dataframe['age35to44'] != -98) &\n",
    "                                          (onlineUse_dataframe['age45to54'] != -97) &\n",
    "                                          (onlineUse_dataframe['age45to54'] != -98) &\n",
    "                                          (onlineUse_dataframe['age55to64'] != -97) & \n",
    "                                          (onlineUse_dataframe['age55to64'] != -98) &\n",
    "                                          (onlineUse_dataframe['age65to74'] != -97) & \n",
    "                                          (onlineUse_dataframe['age65to74'] != -98) &\n",
    "                                          (onlineUse_dataframe['age75to84'] != -97) & \n",
    "                                          (onlineUse_dataframe['age75to84'] != -98) & \n",
    "                                          (onlineUse_dataframe['age85plus'] != -97) & \n",
    "                                          (onlineUse_dataframe['age85plus'] != -98) &\n",
    "                                          (onlineUse_dataframe['phoneeasy'] != -97) & \n",
    "                                          (onlineUse_dataframe['phoneeasy'] != -98) &\n",
    "                                          (onlineUse_dataframe['onlineasy'] != -97) &\n",
    "                                          (onlineUse_dataframe['onlineasy'] != -98) &\n",
    "                                          (onlineUse_dataframe['race'] != -97) & \n",
    "                                          (onlineUse_dataframe['race'] != -98) &\n",
    "                                          (onlineUse_dataframe['longstdhealth'] != -97) &\n",
    "                                          (onlineUse_dataframe['longstdhealth'] != -98) &\n",
    "                                          (onlineUse_dataframe['canmngownhealth'] != -97) &\n",
    "                                          (onlineUse_dataframe['canmngownhealth'] != -98) &\n",
    "                                          (onlineUse_dataframe['reducedability'] != -97) &\n",
    "                                          (onlineUse_dataframe['reducedability'] != -98) &\n",
    "                                          (onlineUse_dataframe['prefgpalways'] != -97) &\n",
    "                                          (onlineUse_dataframe['prefgpalways'] != -98) &\n",
    "                                          (onlineUse_dataframe['bcaaware'] != -97) &\n",
    "                                          (onlineUse_dataframe['bcaaware'] != -98) & \n",
    "                                          (onlineUse_dataframe['numpats'] != -97) & \n",
    "                                          (onlineUse_dataframe['numpats'] != -98)\n",
    "                                          ]\n",
    "print(onlineUse_dataframe.head(10))"
   ]
  },
  {
   "cell_type": "code",
   "execution_count": 0,
   "metadata": {
    "colab": {
     "base_uri": "https://localhost:8080/",
     "height": 35
    },
    "colab_type": "code",
    "id": "14VrJ0wO8O94",
    "outputId": "85a4cbf7-87be-417a-bc28-a8328436a348"
   },
   "outputs": [
    {
     "data": {
      "text/plain": [
       "6360"
      ]
     },
     "execution_count": 4,
     "metadata": {
      "tags": []
     },
     "output_type": "execute_result"
    }
   ],
   "source": [
    "onlineUse_dataframe.shape[0]"
   ]
  },
  {
   "cell_type": "markdown",
   "metadata": {
    "colab_type": "text",
    "id": "90xxq4lzA9LQ"
   },
   "source": [
    "Preprocess"
   ]
  },
  {
   "cell_type": "code",
   "execution_count": 0,
   "metadata": {
    "colab": {},
    "colab_type": "code",
    "id": "-o2LaG3h8kwS"
   },
   "outputs": [],
   "source": [
    "def preprocess_features(onlineUse_dataframe):\n",
    "\n",
    "  selected_features = onlineUse_dataframe[\n",
    "    [\"malepct\",\n",
    "     \"unemp\",\n",
    "     \"age16to24\",\n",
    "     \"age25to34\",\n",
    "     \"age35to44\",\n",
    "     \"age45to54\",\n",
    "     \"age55to64\",\n",
    "     \"age65to74\",\n",
    "     \"age75to84\",\n",
    "     \"age85plus\",\n",
    "     \"phoneeasy\",\n",
    "     \"onlineasy\",\n",
    "     \"race\",\n",
    "     \"longstdhealth\",\n",
    "     \"canmngownhealth\",\n",
    "     \"reducedability\",\n",
    "     \"prefgpalways\",\n",
    "     \"bcaaware\",\n",
    "     \"vendor\",\n",
    "     ]]\n",
    "    \n",
    "  processed_features = selected_features.copy()\n",
    "  \n",
    "  return processed_features\n",
    "\n",
    "def preprocess_targets(onlineUse_dataframe):\n",
    "\n",
    "  output_targets = onlineUse_dataframe[\"OnlineAppointmentUse\"]\n",
    "  return output_targets"
   ]
  },
  {
   "cell_type": "markdown",
   "metadata": {
    "colab_type": "text",
    "id": "DkfPj-G5vKmk"
   },
   "source": [
    "Baseline Calculation"
   ]
  },
  {
   "cell_type": "code",
   "execution_count": 29,
   "metadata": {
    "colab": {
     "base_uri": "https://localhost:8080/",
     "height": 35
    },
    "colab_type": "code",
    "id": "Cr1_Kae8aQ9I",
    "outputId": "f98205c8-5af8-44e4-8bd7-719294a4e5a9"
   },
   "outputs": [
    {
     "data": {
      "text/plain": [
       "0.13847485287955946"
      ]
     },
     "execution_count": 29,
     "metadata": {
      "tags": []
     },
     "output_type": "execute_result"
    }
   ],
   "source": [
    "onlineUse_dataframe[\"OnlineAppointmentUse\"].mean(axis = 0)"
   ]
  },
  {
   "cell_type": "markdown",
   "metadata": {
    "colab_type": "text",
    "id": "-R_UbORhBeBs"
   },
   "source": [
    "Train/Validation Split"
   ]
  },
  {
   "cell_type": "code",
   "execution_count": 0,
   "metadata": {
    "colab": {
     "base_uri": "https://localhost:8080/",
     "height": 979
    },
    "colab_type": "code",
    "id": "tCZqbFyWBggw",
    "outputId": "87e90a11-d4bf-4d98-b2db-b9c2223404fb"
   },
   "outputs": [
    {
     "name": "stdout",
     "output_type": "stream",
     "text": [
      "Training examples summary:\n"
     ]
    },
    {
     "data": {
      "text/html": [
       "<div>\n",
       "<style scoped>\n",
       "    .dataframe tbody tr th:only-of-type {\n",
       "        vertical-align: middle;\n",
       "    }\n",
       "\n",
       "    .dataframe tbody tr th {\n",
       "        vertical-align: top;\n",
       "    }\n",
       "\n",
       "    .dataframe thead th {\n",
       "        text-align: right;\n",
       "    }\n",
       "</style>\n",
       "<table border=\"1\" class=\"dataframe\">\n",
       "  <thead>\n",
       "    <tr style=\"text-align: right;\">\n",
       "      <th></th>\n",
       "      <th>malepct</th>\n",
       "      <th>unemp</th>\n",
       "      <th>age16to24</th>\n",
       "      <th>age25to34</th>\n",
       "      <th>age35to44</th>\n",
       "      <th>age45to54</th>\n",
       "      <th>age55to64</th>\n",
       "      <th>age65to74</th>\n",
       "      <th>age75to84</th>\n",
       "      <th>age85plus</th>\n",
       "      <th>phoneeasy</th>\n",
       "      <th>onlineasy</th>\n",
       "      <th>race</th>\n",
       "      <th>longstdhealth</th>\n",
       "      <th>canmngownhealth</th>\n",
       "      <th>reducedability</th>\n",
       "      <th>prefgpalways</th>\n",
       "      <th>bcaaware</th>\n",
       "      <th>vendor</th>\n",
       "    </tr>\n",
       "  </thead>\n",
       "  <tbody>\n",
       "    <tr>\n",
       "      <th>count</th>\n",
       "      <td>5088.0</td>\n",
       "      <td>5088.0</td>\n",
       "      <td>5088.0</td>\n",
       "      <td>5088.0</td>\n",
       "      <td>5088.0</td>\n",
       "      <td>5088.0</td>\n",
       "      <td>5088.0</td>\n",
       "      <td>5088.0</td>\n",
       "      <td>5088.0</td>\n",
       "      <td>5088.0</td>\n",
       "      <td>5088.0</td>\n",
       "      <td>5088.0</td>\n",
       "      <td>5088.0</td>\n",
       "      <td>5088.0</td>\n",
       "      <td>5088.0</td>\n",
       "      <td>5088.0</td>\n",
       "      <td>5088.0</td>\n",
       "      <td>5088.0</td>\n",
       "      <td>5088.0</td>\n",
       "    </tr>\n",
       "    <tr>\n",
       "      <th>mean</th>\n",
       "      <td>-0.0</td>\n",
       "      <td>0.0</td>\n",
       "      <td>-0.0</td>\n",
       "      <td>0.0</td>\n",
       "      <td>-0.0</td>\n",
       "      <td>-0.0</td>\n",
       "      <td>-0.0</td>\n",
       "      <td>-0.0</td>\n",
       "      <td>-0.0</td>\n",
       "      <td>0.0</td>\n",
       "      <td>-0.0</td>\n",
       "      <td>-0.0</td>\n",
       "      <td>-0.0</td>\n",
       "      <td>-0.0</td>\n",
       "      <td>-0.0</td>\n",
       "      <td>-0.0</td>\n",
       "      <td>-0.0</td>\n",
       "      <td>0.0</td>\n",
       "      <td>-0.0</td>\n",
       "    </tr>\n",
       "    <tr>\n",
       "      <th>std</th>\n",
       "      <td>1.0</td>\n",
       "      <td>1.0</td>\n",
       "      <td>1.0</td>\n",
       "      <td>1.0</td>\n",
       "      <td>1.0</td>\n",
       "      <td>1.0</td>\n",
       "      <td>1.0</td>\n",
       "      <td>1.0</td>\n",
       "      <td>1.0</td>\n",
       "      <td>1.0</td>\n",
       "      <td>1.0</td>\n",
       "      <td>1.0</td>\n",
       "      <td>1.0</td>\n",
       "      <td>1.0</td>\n",
       "      <td>1.0</td>\n",
       "      <td>1.0</td>\n",
       "      <td>1.0</td>\n",
       "      <td>1.0</td>\n",
       "      <td>1.0</td>\n",
       "    </tr>\n",
       "    <tr>\n",
       "      <th>min</th>\n",
       "      <td>-4.3</td>\n",
       "      <td>-1.1</td>\n",
       "      <td>-1.8</td>\n",
       "      <td>-2.2</td>\n",
       "      <td>-2.4</td>\n",
       "      <td>-4.2</td>\n",
       "      <td>-3.5</td>\n",
       "      <td>-2.7</td>\n",
       "      <td>-2.3</td>\n",
       "      <td>-1.8</td>\n",
       "      <td>-3.4</td>\n",
       "      <td>-4.8</td>\n",
       "      <td>-3.0</td>\n",
       "      <td>-3.9</td>\n",
       "      <td>-5.4</td>\n",
       "      <td>-3.2</td>\n",
       "      <td>-2.5</td>\n",
       "      <td>-2.6</td>\n",
       "      <td>-0.8</td>\n",
       "    </tr>\n",
       "    <tr>\n",
       "      <th>25%</th>\n",
       "      <td>-0.7</td>\n",
       "      <td>-0.7</td>\n",
       "      <td>-0.6</td>\n",
       "      <td>-0.7</td>\n",
       "      <td>-0.7</td>\n",
       "      <td>-0.7</td>\n",
       "      <td>-0.6</td>\n",
       "      <td>-0.7</td>\n",
       "      <td>-0.7</td>\n",
       "      <td>-0.7</td>\n",
       "      <td>-0.7</td>\n",
       "      <td>-0.6</td>\n",
       "      <td>-0.5</td>\n",
       "      <td>-0.6</td>\n",
       "      <td>-0.6</td>\n",
       "      <td>-0.7</td>\n",
       "      <td>-0.7</td>\n",
       "      <td>-0.7</td>\n",
       "      <td>-0.8</td>\n",
       "    </tr>\n",
       "    <tr>\n",
       "      <th>50%</th>\n",
       "      <td>-0.0</td>\n",
       "      <td>-0.3</td>\n",
       "      <td>-0.1</td>\n",
       "      <td>-0.1</td>\n",
       "      <td>-0.1</td>\n",
       "      <td>-0.0</td>\n",
       "      <td>0.0</td>\n",
       "      <td>0.0</td>\n",
       "      <td>-0.0</td>\n",
       "      <td>-0.1</td>\n",
       "      <td>0.2</td>\n",
       "      <td>0.1</td>\n",
       "      <td>0.4</td>\n",
       "      <td>0.0</td>\n",
       "      <td>0.1</td>\n",
       "      <td>-0.0</td>\n",
       "      <td>-0.1</td>\n",
       "      <td>-0.0</td>\n",
       "      <td>-0.8</td>\n",
       "    </tr>\n",
       "    <tr>\n",
       "      <th>75%</th>\n",
       "      <td>0.6</td>\n",
       "      <td>0.5</td>\n",
       "      <td>0.5</td>\n",
       "      <td>0.6</td>\n",
       "      <td>0.6</td>\n",
       "      <td>0.6</td>\n",
       "      <td>0.6</td>\n",
       "      <td>0.7</td>\n",
       "      <td>0.7</td>\n",
       "      <td>0.6</td>\n",
       "      <td>0.8</td>\n",
       "      <td>0.7</td>\n",
       "      <td>0.7</td>\n",
       "      <td>0.7</td>\n",
       "      <td>0.7</td>\n",
       "      <td>0.7</td>\n",
       "      <td>0.7</td>\n",
       "      <td>0.7</td>\n",
       "      <td>1.1</td>\n",
       "    </tr>\n",
       "    <tr>\n",
       "      <th>max</th>\n",
       "      <td>5.1</td>\n",
       "      <td>13.2</td>\n",
       "      <td>11.0</td>\n",
       "      <td>6.4</td>\n",
       "      <td>4.7</td>\n",
       "      <td>4.1</td>\n",
       "      <td>3.6</td>\n",
       "      <td>3.9</td>\n",
       "      <td>3.8</td>\n",
       "      <td>6.6</td>\n",
       "      <td>1.5</td>\n",
       "      <td>1.9</td>\n",
       "      <td>1.0</td>\n",
       "      <td>5.7</td>\n",
       "      <td>2.0</td>\n",
       "      <td>4.2</td>\n",
       "      <td>2.6</td>\n",
       "      <td>2.9</td>\n",
       "      <td>2.4</td>\n",
       "    </tr>\n",
       "  </tbody>\n",
       "</table>\n",
       "</div>"
      ],
      "text/plain": [
       "       malepct  unemp  age16to24  ...  prefgpalways  bcaaware  vendor\n",
       "count   5088.0 5088.0     5088.0  ...        5088.0    5088.0  5088.0\n",
       "mean      -0.0    0.0       -0.0  ...          -0.0       0.0    -0.0\n",
       "std        1.0    1.0        1.0  ...           1.0       1.0     1.0\n",
       "min       -4.3   -1.1       -1.8  ...          -2.5      -2.6    -0.8\n",
       "25%       -0.7   -0.7       -0.6  ...          -0.7      -0.7    -0.8\n",
       "50%       -0.0   -0.3       -0.1  ...          -0.1      -0.0    -0.8\n",
       "75%        0.6    0.5        0.5  ...           0.7       0.7     1.1\n",
       "max        5.1   13.2       11.0  ...           2.6       2.9     2.4\n",
       "\n",
       "[8 rows x 19 columns]"
      ]
     },
     "metadata": {
      "tags": []
     },
     "output_type": "display_data"
    },
    {
     "name": "stdout",
     "output_type": "stream",
     "text": [
      "Validation examples summary:\n"
     ]
    },
    {
     "data": {
      "text/html": [
       "<div>\n",
       "<style scoped>\n",
       "    .dataframe tbody tr th:only-of-type {\n",
       "        vertical-align: middle;\n",
       "    }\n",
       "\n",
       "    .dataframe tbody tr th {\n",
       "        vertical-align: top;\n",
       "    }\n",
       "\n",
       "    .dataframe thead th {\n",
       "        text-align: right;\n",
       "    }\n",
       "</style>\n",
       "<table border=\"1\" class=\"dataframe\">\n",
       "  <thead>\n",
       "    <tr style=\"text-align: right;\">\n",
       "      <th></th>\n",
       "      <th>malepct</th>\n",
       "      <th>unemp</th>\n",
       "      <th>age16to24</th>\n",
       "      <th>age25to34</th>\n",
       "      <th>age35to44</th>\n",
       "      <th>age45to54</th>\n",
       "      <th>age55to64</th>\n",
       "      <th>age65to74</th>\n",
       "      <th>age75to84</th>\n",
       "      <th>age85plus</th>\n",
       "      <th>phoneeasy</th>\n",
       "      <th>onlineasy</th>\n",
       "      <th>race</th>\n",
       "      <th>longstdhealth</th>\n",
       "      <th>canmngownhealth</th>\n",
       "      <th>reducedability</th>\n",
       "      <th>prefgpalways</th>\n",
       "      <th>bcaaware</th>\n",
       "      <th>vendor</th>\n",
       "    </tr>\n",
       "  </thead>\n",
       "  <tbody>\n",
       "    <tr>\n",
       "      <th>count</th>\n",
       "      <td>1272.0</td>\n",
       "      <td>1272.0</td>\n",
       "      <td>1272.0</td>\n",
       "      <td>1272.0</td>\n",
       "      <td>1272.0</td>\n",
       "      <td>1272.0</td>\n",
       "      <td>1272.0</td>\n",
       "      <td>1272.0</td>\n",
       "      <td>1272.0</td>\n",
       "      <td>1272.0</td>\n",
       "      <td>1272.0</td>\n",
       "      <td>1272.0</td>\n",
       "      <td>1272.0</td>\n",
       "      <td>1272.0</td>\n",
       "      <td>1272.0</td>\n",
       "      <td>1272.0</td>\n",
       "      <td>1272.0</td>\n",
       "      <td>1272.0</td>\n",
       "      <td>1272.0</td>\n",
       "    </tr>\n",
       "    <tr>\n",
       "      <th>mean</th>\n",
       "      <td>0.0</td>\n",
       "      <td>0.1</td>\n",
       "      <td>-0.0</td>\n",
       "      <td>0.0</td>\n",
       "      <td>-0.0</td>\n",
       "      <td>0.1</td>\n",
       "      <td>-0.0</td>\n",
       "      <td>-0.0</td>\n",
       "      <td>-0.0</td>\n",
       "      <td>-0.0</td>\n",
       "      <td>-0.1</td>\n",
       "      <td>-0.0</td>\n",
       "      <td>-0.1</td>\n",
       "      <td>-0.0</td>\n",
       "      <td>-0.0</td>\n",
       "      <td>0.0</td>\n",
       "      <td>-0.0</td>\n",
       "      <td>0.0</td>\n",
       "      <td>0.0</td>\n",
       "    </tr>\n",
       "    <tr>\n",
       "      <th>std</th>\n",
       "      <td>1.0</td>\n",
       "      <td>1.1</td>\n",
       "      <td>0.9</td>\n",
       "      <td>1.0</td>\n",
       "      <td>1.0</td>\n",
       "      <td>1.0</td>\n",
       "      <td>1.0</td>\n",
       "      <td>1.0</td>\n",
       "      <td>1.0</td>\n",
       "      <td>1.0</td>\n",
       "      <td>1.0</td>\n",
       "      <td>1.0</td>\n",
       "      <td>1.1</td>\n",
       "      <td>1.0</td>\n",
       "      <td>1.0</td>\n",
       "      <td>1.0</td>\n",
       "      <td>1.0</td>\n",
       "      <td>1.0</td>\n",
       "      <td>1.0</td>\n",
       "    </tr>\n",
       "    <tr>\n",
       "      <th>min</th>\n",
       "      <td>-3.1</td>\n",
       "      <td>-1.1</td>\n",
       "      <td>-1.8</td>\n",
       "      <td>-2.1</td>\n",
       "      <td>-2.3</td>\n",
       "      <td>-3.1</td>\n",
       "      <td>-3.5</td>\n",
       "      <td>-2.6</td>\n",
       "      <td>-2.3</td>\n",
       "      <td>-1.8</td>\n",
       "      <td>-3.2</td>\n",
       "      <td>-6.4</td>\n",
       "      <td>-3.0</td>\n",
       "      <td>-3.6</td>\n",
       "      <td>-6.0</td>\n",
       "      <td>-3.1</td>\n",
       "      <td>-2.4</td>\n",
       "      <td>-2.4</td>\n",
       "      <td>-0.8</td>\n",
       "    </tr>\n",
       "    <tr>\n",
       "      <th>25%</th>\n",
       "      <td>-0.6</td>\n",
       "      <td>-0.7</td>\n",
       "      <td>-0.6</td>\n",
       "      <td>-0.7</td>\n",
       "      <td>-0.7</td>\n",
       "      <td>-0.6</td>\n",
       "      <td>-0.6</td>\n",
       "      <td>-0.7</td>\n",
       "      <td>-0.7</td>\n",
       "      <td>-0.8</td>\n",
       "      <td>-0.7</td>\n",
       "      <td>-0.7</td>\n",
       "      <td>-0.7</td>\n",
       "      <td>-0.7</td>\n",
       "      <td>-0.6</td>\n",
       "      <td>-0.7</td>\n",
       "      <td>-0.7</td>\n",
       "      <td>-0.7</td>\n",
       "      <td>-0.8</td>\n",
       "    </tr>\n",
       "    <tr>\n",
       "      <th>50%</th>\n",
       "      <td>0.0</td>\n",
       "      <td>-0.2</td>\n",
       "      <td>-0.1</td>\n",
       "      <td>-0.2</td>\n",
       "      <td>-0.1</td>\n",
       "      <td>0.1</td>\n",
       "      <td>0.0</td>\n",
       "      <td>-0.0</td>\n",
       "      <td>-0.0</td>\n",
       "      <td>-0.2</td>\n",
       "      <td>0.1</td>\n",
       "      <td>0.1</td>\n",
       "      <td>0.4</td>\n",
       "      <td>0.0</td>\n",
       "      <td>0.1</td>\n",
       "      <td>0.0</td>\n",
       "      <td>-0.1</td>\n",
       "      <td>0.0</td>\n",
       "      <td>-0.8</td>\n",
       "    </tr>\n",
       "    <tr>\n",
       "      <th>75%</th>\n",
       "      <td>0.6</td>\n",
       "      <td>0.6</td>\n",
       "      <td>0.4</td>\n",
       "      <td>0.5</td>\n",
       "      <td>0.6</td>\n",
       "      <td>0.7</td>\n",
       "      <td>0.6</td>\n",
       "      <td>0.6</td>\n",
       "      <td>0.6</td>\n",
       "      <td>0.6</td>\n",
       "      <td>0.7</td>\n",
       "      <td>0.7</td>\n",
       "      <td>0.7</td>\n",
       "      <td>0.6</td>\n",
       "      <td>0.7</td>\n",
       "      <td>0.7</td>\n",
       "      <td>0.7</td>\n",
       "      <td>0.7</td>\n",
       "      <td>1.1</td>\n",
       "    </tr>\n",
       "    <tr>\n",
       "      <th>max</th>\n",
       "      <td>4.1</td>\n",
       "      <td>5.1</td>\n",
       "      <td>4.2</td>\n",
       "      <td>7.2</td>\n",
       "      <td>4.3</td>\n",
       "      <td>3.5</td>\n",
       "      <td>3.5</td>\n",
       "      <td>3.2</td>\n",
       "      <td>3.7</td>\n",
       "      <td>4.1</td>\n",
       "      <td>1.5</td>\n",
       "      <td>1.9</td>\n",
       "      <td>1.0</td>\n",
       "      <td>2.7</td>\n",
       "      <td>2.0</td>\n",
       "      <td>4.2</td>\n",
       "      <td>2.5</td>\n",
       "      <td>2.7</td>\n",
       "      <td>2.4</td>\n",
       "    </tr>\n",
       "  </tbody>\n",
       "</table>\n",
       "</div>"
      ],
      "text/plain": [
       "       malepct  unemp  age16to24  ...  prefgpalways  bcaaware  vendor\n",
       "count   1272.0 1272.0     1272.0  ...        1272.0    1272.0  1272.0\n",
       "mean       0.0    0.1       -0.0  ...          -0.0       0.0     0.0\n",
       "std        1.0    1.1        0.9  ...           1.0       1.0     1.0\n",
       "min       -3.1   -1.1       -1.8  ...          -2.4      -2.4    -0.8\n",
       "25%       -0.6   -0.7       -0.6  ...          -0.7      -0.7    -0.8\n",
       "50%        0.0   -0.2       -0.1  ...          -0.1       0.0    -0.8\n",
       "75%        0.6    0.6        0.4  ...           0.7       0.7     1.1\n",
       "max        4.1    5.1        4.2  ...           2.5       2.7     2.4\n",
       "\n",
       "[8 rows x 19 columns]"
      ]
     },
     "metadata": {
      "tags": []
     },
     "output_type": "display_data"
    },
    {
     "name": "stdout",
     "output_type": "stream",
     "text": [
      "Training targets summary:\n"
     ]
    },
    {
     "data": {
      "text/plain": [
       "count   5088.0\n",
       "mean       0.1\n",
       "std        0.1\n",
       "min        0.0\n",
       "25%        0.1\n",
       "50%        0.1\n",
       "75%        0.2\n",
       "max        0.6\n",
       "Name: OnlineAppointmentUse, dtype: float64"
      ]
     },
     "metadata": {
      "tags": []
     },
     "output_type": "display_data"
    },
    {
     "name": "stdout",
     "output_type": "stream",
     "text": [
      "Validation targets summary:\n"
     ]
    },
    {
     "data": {
      "text/plain": [
       "count   1272.0\n",
       "mean       0.1\n",
       "std        0.1\n",
       "min        0.0\n",
       "25%        0.1\n",
       "50%        0.1\n",
       "75%        0.2\n",
       "max        0.6\n",
       "Name: OnlineAppointmentUse, dtype: float64"
      ]
     },
     "metadata": {
      "tags": []
     },
     "output_type": "display_data"
    }
   ],
   "source": [
    "# Choose the first 5088 examples for training.\n",
    "training_examples = preprocess_features(onlineUse_dataframe.head(5088))\n",
    "training_targets = preprocess_targets(onlineUse_dataframe.head(5088))\n",
    "scaler = StandardScaler().fit(training_examples.values)\n",
    "scaledf = scaler.transform(training_examples.values)\n",
    "training_examples = pd.DataFrame(scaledf, index=training_examples.index, columns=training_examples.columns)\n",
    "\n",
    "\n",
    "# Choose the 1272 examples for validation.\n",
    "validation_examples = preprocess_features(onlineUse_dataframe.tail(1272))\n",
    "vscaled = scaler.transform(validation_examples.values)\n",
    "validation_examples = pd.DataFrame(vscaled, index=validation_examples.index, columns=validation_examples.columns)\n",
    "validation_targets = preprocess_targets(onlineUse_dataframe.tail(1272))\n",
    "\n",
    "\n",
    "\n",
    "# Double-check that we've done the right thing.\n",
    "print(\"Training examples summary:\")\n",
    "display.display(training_examples.describe())\n",
    "print(\"Validation examples summary:\")\n",
    "display.display(validation_examples.describe())\n",
    "\n",
    "print(\"Training targets summary:\")\n",
    "display.display(training_targets.describe())\n",
    "print(\"Validation targets summary:\")\n",
    "display.display(validation_targets.describe())\n"
   ]
  },
  {
   "cell_type": "code",
   "execution_count": 0,
   "metadata": {
    "colab": {
     "base_uri": "https://localhost:8080/",
     "height": 35
    },
    "colab_type": "code",
    "id": "4RBHYx5ZCd-c",
    "outputId": "9ab973d4-d18e-4df8-b894-1dbc6bbceed5"
   },
   "outputs": [
    {
     "data": {
      "text/plain": [
       "(5088, 19)"
      ]
     },
     "execution_count": 8,
     "metadata": {
      "tags": []
     },
     "output_type": "execute_result"
    }
   ],
   "source": [
    "training_examples.shape"
   ]
  },
  {
   "cell_type": "markdown",
   "metadata": {
    "colab_type": "text",
    "id": "fwhDBDmkC6KY"
   },
   "source": [
    "Build Model"
   ]
  },
  {
   "cell_type": "code",
   "execution_count": 0,
   "metadata": {
    "colab": {
     "base_uri": "https://localhost:8080/",
     "height": 272
    },
    "colab_type": "code",
    "id": "0JSYqO9PC63u",
    "outputId": "a42c3618-109a-46fa-f699-4083052f8184"
   },
   "outputs": [
    {
     "name": "stdout",
     "output_type": "stream",
     "text": [
      "Model: \"sequential_1\"\n",
      "_________________________________________________________________\n",
      "Layer (type)                 Output Shape              Param #   \n",
      "=================================================================\n",
      "dense_3 (Dense)              (None, 200)               4000      \n",
      "_________________________________________________________________\n",
      "dense_4 (Dense)              (None, 200)               40200     \n",
      "_________________________________________________________________\n",
      "dense_5 (Dense)              (None, 1)                 201       \n",
      "=================================================================\n",
      "Total params: 44,401\n",
      "Trainable params: 44,401\n",
      "Non-trainable params: 0\n",
      "_________________________________________________________________\n"
     ]
    }
   ],
   "source": [
    "baseline_model = keras.Sequential([\n",
    "    keras.layers.Dense(200, activation=tf.nn.relu,\n",
    "                       input_shape=(training_examples.shape[1],)),\n",
    "    keras.layers.Dense(200, activation=tf.nn.relu,),\n",
    "    #keras.layers.Dense(100, activation=tf.nn.relu,),\n",
    "    keras.layers.Dense(1)\n",
    "\n",
    "  ])\n",
    "\n",
    "baseline_model.compile(loss='mse',\n",
    "                optimizer=\"rmsprop\",\n",
    "                metrics=['mse'])\n",
    "baseline_model.summary()\n"
   ]
  },
  {
   "cell_type": "markdown",
   "metadata": {
    "colab_type": "text",
    "id": "H2MFDgaYaBEU"
   },
   "source": [
    "Fit Model"
   ]
  },
  {
   "cell_type": "code",
   "execution_count": 0,
   "metadata": {
    "colab": {},
    "colab_type": "code",
    "id": "fJBr8IUmaCK8"
   },
   "outputs": [],
   "source": [
    "\n",
    "class PrintDot(keras.callbacks.Callback):\n",
    "  def on_epoch_end(self, epoch, logs):\n",
    "    if epoch % 100 == 0: print('')\n",
    "    print('.', end='')\n",
    "\n",
    "EPOCHS = 100\n",
    "callback = tf.keras.callbacks.EarlyStopping(monitor='val_loss', patience=10)\n",
    "b_history = baseline_model.fit(training_examples, training_targets, epochs=EPOCHS,\n",
    "                    validation_data= (validation_examples, validation_targets), verbose=0,\n",
    "                    callbacks=[callback])\n",
    "\n"
   ]
  },
  {
   "cell_type": "code",
   "execution_count": 0,
   "metadata": {
    "colab": {
     "base_uri": "https://localhost:8080/",
     "height": 35
    },
    "colab_type": "code",
    "id": "k6fXuhLXb5UN",
    "outputId": "c2b3befa-3c67-4f40-bda4-fc13675c8e21"
   },
   "outputs": [
    {
     "name": "stdout",
     "output_type": "stream",
     "text": [
      "0.0011694777\n"
     ]
    }
   ],
   "source": [
    "print(min(b_history.history['mse']))"
   ]
  },
  {
   "cell_type": "markdown",
   "metadata": {
    "colab_type": "text",
    "id": "9XfqSuYJcJcq"
   },
   "source": [
    "Plot Results"
   ]
  },
  {
   "cell_type": "code",
   "execution_count": 0,
   "metadata": {
    "colab": {
     "base_uri": "https://localhost:8080/",
     "height": 626
    },
    "colab_type": "code",
    "id": "vTstRKW1b_52",
    "outputId": "e0c9283c-766c-423d-d0d7-5053f9e43217"
   },
   "outputs": [
    {
     "data": {
      "image/png": "[encoded data removed]",
      "text/plain": [
       "<Figure size 1152x720 with 1 Axes>"
      ]
     },
     "metadata": {
      "tags": []
     },
     "output_type": "display_data"
    }
   ],
   "source": [
    "import matplotlib.pyplot as plt\n",
    "\n",
    "\n",
    "def plot_history(histories, key='mse'):\n",
    "  plt.figure(figsize=(16,10))\n",
    "  for name, history in histories:\n",
    "    val = plt.plot(history.epoch, history.history['val_'+key],\n",
    "                   '--', label=name.title()+' Val')\n",
    "    plt.plot(history.epoch, history.history[key], color=val[0].get_color(),\n",
    "             label=name.title()+' Train')\n",
    "\n",
    "  plt.xlabel('Epochs')\n",
    "  plt.ylabel(key.replace('_',' ').title())\n",
    "  plt.legend()\n",
    "\n",
    "  plt.xlim([0,max(history.epoch)])\n",
    "  #plt.ylim([0,1])\n",
    "\n",
    "plot_history([('baseline', b_history)])"
   ]
  },
  {
   "cell_type": "markdown",
   "metadata": {
    "colab_type": "text",
    "id": "2UxoTBwKkDu6"
   },
   "source": [
    "Predictions"
   ]
  },
  {
   "cell_type": "code",
   "execution_count": 0,
   "metadata": {
    "colab": {
     "base_uri": "https://localhost:8080/",
     "height": 163
    },
    "colab_type": "code",
    "id": "xyulk4hhkFE5",
    "outputId": "0a62a105-f712-4212-84d9-315a6d4633a5"
   },
   "outputs": [
    {
     "name": "stdout",
     "output_type": "stream",
     "text": [
      "tf.Tensor(\n",
      "[[-0.1661667 ]\n",
      " [ 0.21324268]\n",
      " [ 0.05951589]\n",
      " ...\n",
      " [-0.31350482]\n",
      " [-0.3008303 ]\n",
      " [-0.15199347]], shape=(1272, 1), dtype=float32)\n"
     ]
    }
   ],
   "source": [
    "valpreds = baseline_model.predict_on_batch(validation_examples)\n",
    "print(valpreds)"
   ]
  },
  {
   "cell_type": "code",
   "execution_count": 0,
   "metadata": {
    "colab": {},
    "colab_type": "code",
    "id": "vyoSqf5IkH1I"
   },
   "outputs": [],
   "source": [
    "with pd.option_context('display.max_rows', None, 'display.max_columns', None):\n",
    "    print(validation_targets)"
   ]
  },
  {
   "cell_type": "code",
   "execution_count": 0,
   "metadata": {
    "colab": {
     "base_uri": "https://localhost:8080/",
     "height": 283
    },
    "colab_type": "code",
    "id": "g1nS1QVekLTh",
    "outputId": "8052d6c6-c3e7-4eda-90e7-a9ea1a867b33"
   },
   "outputs": [
    {
     "data": {
      "text/plain": [
       "<BarContainer object of 200 artists>"
      ]
     },
     "execution_count": 175,
     "metadata": {
      "tags": []
     },
     "output_type": "execute_result"
    },
    {
     "data": {
      "image/png": "[encoded data removed]",
      "text/plain": [
       "<Figure size 432x288 with 1 Axes>"
      ]
     },
     "metadata": {
      "tags": []
     },
     "output_type": "display_data"
    }
   ],
   "source": [
    "# Plot Weights\n",
    "nfw = baseline_model.get_weights()[0][0]\n",
    "y_pos = np.arange(len(nfw))\n",
    " \n",
    "plt.bar(y_pos, nfw, align='center', alpha=0.5)"
   ]
  },
  {
   "cell_type": "markdown",
   "metadata": {
    "colab_type": "text",
    "id": "sWfz5VmAkO76"
   },
   "source": [
    "Regularized Models"
   ]
  },
  {
   "cell_type": "code",
   "execution_count": 0,
   "metadata": {
    "colab": {},
    "colab_type": "code",
    "id": "C1j3rQm0kRHN"
   },
   "outputs": [],
   "source": [
    "l1_model = keras.Sequential([\n",
    "    keras.layers.Dense(32, kernel_regularizer=keras.regularizers.l1(0.1), activation=tf.nn.relu,\n",
    "                       input_shape=(training_examples.shape[1],)),\n",
    "    keras.layers.Dense(32, use_bias=True, kernel_regularizer=keras.regularizers.l1(0.01), activation=tf.nn.relu),\n",
    "    keras.layers.Dense(32, use_bias=True, kernel_regularizer=keras.regularizers.l1(0.01), activation=tf.nn.relu),\n",
    "    keras.layers.Dense(32, use_bias=True, kernel_regularizer=keras.regularizers.l1(0.01), activation=tf.nn.relu),\n",
    "    keras.layers.Dense(1)\n",
    "  ])\n",
    "\n",
    "l1_model.compile(loss='mse',\n",
    "                optimizer=\"rmsprop\",\n",
    "                metrics=['mse'])\n",
    "\n",
    "l2_model = keras.Sequential([\n",
    "    keras.layers.Dense(10, kernel_regularizer=keras.regularizers.l2(0.1), activation=tf.nn.relu,\n",
    "                       input_shape=(training_examples.shape[1],)),\n",
    "    keras.layers.Dropout(0.25),\n",
    "    keras.layers.Dense(10, kernel_regularizer=keras.regularizers.l2(0.1), activation=tf.nn.relu),\n",
    "    keras.layers.Dropout(0.25),\n",
    "    keras.layers.Dense(10, kernel_regularizer=keras.regularizers.l2(0.1), activation=tf.nn.relu),\n",
    "    keras.layers.Dropout(0.25),\n",
    "    keras.layers.Dense(10, kernel_regularizer=keras.regularizers.l2(0.1), activation=tf.nn.relu),\n",
    "    keras.layers.Dense(1)\n",
    "  ])\n",
    "\n",
    "l2_model.compile(loss='mse',\n",
    "                optimizer=\"rmsprop\",\n",
    "                metrics=['mse'])\n"
   ]
  },
  {
   "cell_type": "code",
   "execution_count": 0,
   "metadata": {
    "colab": {
     "base_uri": "https://localhost:8080/",
     "height": 72
    },
    "colab_type": "code",
    "id": "cXNHV8QNkTMu",
    "outputId": "b399c696-1119-4f2b-aefe-074735dc7952"
   },
   "outputs": [
    {
     "name": "stdout",
     "output_type": "stream",
     "text": [
      "\n",
      "....................................................................................................\n",
      "...................................................................................................."
     ]
    }
   ],
   "source": [
    "l1_history = l1_model.fit(training_examples, training_targets, epochs=EPOCHS,\n",
    "                    validation_data= (validation_examples, validation_targets), verbose=0,\n",
    "                    callbacks=[PrintDot()])\n",
    "\n",
    "l2_history = l2_model.fit(training_examples, training_targets, epochs=EPOCHS,\n",
    "                    validation_data= (validation_examples, validation_targets), verbose=0,\n",
    "                    callbacks=[PrintDot()])"
   ]
  },
  {
   "cell_type": "code",
   "execution_count": 0,
   "metadata": {
    "colab": {
     "base_uri": "https://localhost:8080/",
     "height": 606
    },
    "colab_type": "code",
    "id": "x9BvOQB0kVIS",
    "outputId": "a390ff8e-82a6-4469-a7c5-f7bde1564116"
   },
   "outputs": [
    {
     "data": {
      "image/png": "[encoded data removed]",
      "text/plain": [
       "<Figure size 1152x720 with 1 Axes>"
      ]
     },
     "metadata": {
      "tags": []
     },
     "output_type": "display_data"
    }
   ],
   "source": [
    "# Plot history Multiple\n",
    "plot_history([('baseline', b_history),\n",
    "              ('L1', l1_history),\n",
    "              ('L2', l2_history)])"
   ]
  }
 ],
 "metadata": {
  "colab": {
   "collapsed_sections": [],
   "name": "ApoorvaNerkar_OnlineAppointmentUse.ipynb",
   "provenance": []
  },
  "kernelspec": {
   "display_name": "Python 3",
   "language": "python",
   "name": "python3"
  },
  "language_info": {
   "codemirror_mode": {
    "name": "ipython",
    "version": 3
   },
   "file_extension": ".py",
   "mimetype": "text/x-python",
   "name": "python",
   "nbconvert_exporter": "python",
   "pygments_lexer": "ipython3",
   "version": "3.7.3"
  }
 },
 "nbformat": 4,
 "nbformat_minor": 1
}
